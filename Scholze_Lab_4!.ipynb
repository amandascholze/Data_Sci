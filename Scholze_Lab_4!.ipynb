{
  "nbformat": 4,
  "nbformat_minor": 0,
  "metadata": {
    "colab": {
      "provenance": [],
      "collapsed_sections": [
        "6o5zYVOU8ahE"
      ],
      "include_colab_link": true
    },
    "kernelspec": {
      "name": "python3",
      "display_name": "Python 3"
    },
    "language_info": {
      "name": "python"
    }
  },
  "cells": [
    {
      "cell_type": "markdown",
      "metadata": {
        "id": "view-in-github",
        "colab_type": "text"
      },
      "source": [
        "<a href=\"https://colab.research.google.com/github/amandascholze/Data_Sci/blob/main/Scholze_Lab_4!.ipynb\" target=\"_parent\"><img src=\"https://colab.research.google.com/assets/colab-badge.svg\" alt=\"Open In Colab\"/></a>"
      ]
    },
    {
      "cell_type": "markdown",
      "source": [
        "# Stats Notebook Lab #4\n"
      ],
      "metadata": {
        "id": "GEwHyK5ve9lG"
      }
    },
    {
      "cell_type": "code",
      "source": [
        "import numpy as np\n",
        "import matplotlib.pyplot as plt"
      ],
      "metadata": {
        "id": "vJ6HJOKPFbkn"
      },
      "execution_count": null,
      "outputs": []
    },
    {
      "cell_type": "code",
      "source": [
        "x = np.array([1,2,3])"
      ],
      "metadata": {
        "id": "jJzlNIjLmxiN"
      },
      "execution_count": null,
      "outputs": []
    },
    {
      "cell_type": "code",
      "source": [
        "np.sum(x)"
      ],
      "metadata": {
        "colab": {
          "base_uri": "https://localhost:8080/"
        },
        "id": "jEdVM14Bm009",
        "outputId": "beeb2523-b887-4b45-f40b-92de67bfa932"
      },
      "execution_count": null,
      "outputs": [
        {
          "output_type": "execute_result",
          "data": {
            "text/plain": [
              "6"
            ]
          },
          "metadata": {},
          "execution_count": 3
        }
      ]
    },
    {
      "cell_type": "code",
      "source": [
        "x = np.array([12, 17, 18, 23, 56, 37, 48])"
      ],
      "metadata": {
        "id": "mG_A0OrJ3rQ-"
      },
      "execution_count": null,
      "outputs": []
    },
    {
      "cell_type": "code",
      "source": [
        "#puts numbers into system"
      ],
      "metadata": {
        "id": "iKvJS89a-az0"
      },
      "execution_count": null,
      "outputs": []
    },
    {
      "cell_type": "code",
      "source": [
        "# population"
      ],
      "metadata": {
        "id": "qtftE4fTLopi"
      },
      "execution_count": null,
      "outputs": []
    },
    {
      "cell_type": "code",
      "source": [
        "def mean(x):\n",
        "    return np.sum(x)/x.shape[0]"
      ],
      "metadata": {
        "id": "2sNU3WHzKL-K"
      },
      "execution_count": null,
      "outputs": []
    },
    {
      "cell_type": "code",
      "source": [
        "#shape things gives our list"
      ],
      "metadata": {
        "id": "pN9H8q4s-uwu"
      },
      "execution_count": null,
      "outputs": []
    },
    {
      "cell_type": "code",
      "source": [
        "#creates a function"
      ],
      "metadata": {
        "id": "0MuxxSMp-qnG"
      },
      "execution_count": null,
      "outputs": []
    },
    {
      "cell_type": "code",
      "source": [
        "def var(x):\n",
        "    return mean((x - mean(x))**2)"
      ],
      "metadata": {
        "id": "AFiWPynDKL-K"
      },
      "execution_count": null,
      "outputs": []
    },
    {
      "cell_type": "code",
      "source": [
        "#we square to get rid of negatives"
      ],
      "metadata": {
        "id": "xPxgVomfn_PT"
      },
      "execution_count": null,
      "outputs": []
    },
    {
      "cell_type": "code",
      "source": [
        "#average sqaure differense froma mean"
      ],
      "metadata": {
        "id": "pOcRvpZc-yeW"
      },
      "execution_count": null,
      "outputs": []
    },
    {
      "cell_type": "code",
      "source": [
        "def std(x):\n",
        "    return np.sqrt(var(x))"
      ],
      "metadata": {
        "id": "qgYexg70KL-K"
      },
      "execution_count": null,
      "outputs": []
    },
    {
      "cell_type": "code",
      "source": [
        "#standard deviation --> sqaure root of variance of x"
      ],
      "metadata": {
        "id": "pbJRkpOO-1uH"
      },
      "execution_count": null,
      "outputs": []
    },
    {
      "cell_type": "code",
      "source": [
        "mean(x)"
      ],
      "metadata": {
        "colab": {
          "base_uri": "https://localhost:8080/"
        },
        "outputId": "bb0a17bd-99ab-45e9-d2ef-b6e00fb76c81",
        "id": "RWRhGNozKL-K"
      },
      "execution_count": null,
      "outputs": [
        {
          "output_type": "execute_result",
          "data": {
            "text/plain": [
              "30.142857142857142"
            ]
          },
          "metadata": {},
          "execution_count": 15
        }
      ]
    },
    {
      "cell_type": "code",
      "source": [
        "x - mean (x)"
      ],
      "metadata": {
        "colab": {
          "base_uri": "https://localhost:8080/"
        },
        "id": "IcgG-cvsnx1m",
        "outputId": "d8ac9212-a8d0-450f-e695-07c5f9d0a281"
      },
      "execution_count": null,
      "outputs": [
        {
          "output_type": "execute_result",
          "data": {
            "text/plain": [
              "array([-18.14285714, -13.14285714, -12.14285714,  -7.14285714,\n",
              "        25.85714286,   6.85714286,  17.85714286])"
            ]
          },
          "metadata": {},
          "execution_count": 16
        }
      ]
    },
    {
      "cell_type": "code",
      "source": [],
      "metadata": {
        "id": "M1mZqpP5n1aa"
      },
      "execution_count": null,
      "outputs": []
    },
    {
      "cell_type": "code",
      "source": [
        "var(x)"
      ],
      "metadata": {
        "colab": {
          "base_uri": "https://localhost:8080/"
        },
        "id": "qE62mTdl42M8",
        "outputId": "98b1633c-99a5-4783-fbd1-3dd1b79d711a"
      },
      "execution_count": null,
      "outputs": [
        {
          "output_type": "execute_result",
          "data": {
            "text/plain": [
              "247.83673469387756"
            ]
          },
          "metadata": {},
          "execution_count": 17
        }
      ]
    },
    {
      "cell_type": "code",
      "source": [
        "std(x)"
      ],
      "metadata": {
        "colab": {
          "base_uri": "https://localhost:8080/"
        },
        "outputId": "604540e4-0d71-4940-9df1-91de9cde9f23",
        "id": "GNgkLkMWKL-K"
      },
      "execution_count": null,
      "outputs": [
        {
          "output_type": "execute_result",
          "data": {
            "text/plain": [
              "15.742831215949613"
            ]
          },
          "metadata": {},
          "execution_count": 18
        }
      ]
    },
    {
      "cell_type": "markdown",
      "source": [
        "### Random Number Generator"
      ],
      "metadata": {
        "id": "_CYAXnRate5P"
      }
    },
    {
      "cell_type": "markdown",
      "source": [
        "$y=mx+b$"
      ],
      "metadata": {
        "id": "72RbtfQ1qjM3"
      }
    },
    {
      "cell_type": "code",
      "source": [
        "m = 75                 # multiplier\n",
        "b = 74                 # increment\n",
        "n = 65537              # modulus "
      ],
      "metadata": {
        "id": "UVSSfm-U3zeD"
      },
      "execution_count": null,
      "outputs": []
    },
    {
      "cell_type": "code",
      "source": [
        "# y = mx +b"
      ],
      "metadata": {
        "id": "7RonjBgu_aKI"
      },
      "execution_count": null,
      "outputs": []
    },
    {
      "cell_type": "code",
      "source": [
        "x = 58      # seed value"
      ],
      "metadata": {
        "id": "P_DmR_fF6wXH"
      },
      "execution_count": null,
      "outputs": []
    },
    {
      "cell_type": "code",
      "source": [
        "m*x + 74"
      ],
      "metadata": {
        "colab": {
          "base_uri": "https://localhost:8080/"
        },
        "id": "u03wAtUHq2o_",
        "outputId": "f125de30-1123-4716-de16-6ac53ea0be0f"
      },
      "execution_count": null,
      "outputs": [
        {
          "output_type": "execute_result",
          "data": {
            "text/plain": [
              "4424"
            ]
          },
          "metadata": {},
          "execution_count": 22
        }
      ]
    },
    {
      "cell_type": "code",
      "source": [
        "for i in range(10):\n",
        "  print(i)"
      ],
      "metadata": {
        "colab": {
          "base_uri": "https://localhost:8080/"
        },
        "id": "E_w7m7H-q56Y",
        "outputId": "04ef4ed4-5aac-4b10-a01e-2cb58798e6ff"
      },
      "execution_count": null,
      "outputs": [
        {
          "output_type": "stream",
          "name": "stdout",
          "text": [
            "0\n",
            "1\n",
            "2\n",
            "3\n",
            "4\n",
            "5\n",
            "6\n",
            "7\n",
            "8\n",
            "9\n"
          ]
        }
      ]
    },
    {
      "cell_type": "code",
      "source": [
        "for i in range(10):\n",
        "  print(i % 3)"
      ],
      "metadata": {
        "colab": {
          "base_uri": "https://localhost:8080/"
        },
        "id": "Y24Xyzcvq_pY",
        "outputId": "d3cb48e6-9fc5-46b3-b160-c44ec91945e6"
      },
      "execution_count": null,
      "outputs": [
        {
          "output_type": "stream",
          "name": "stdout",
          "text": [
            "0\n",
            "1\n",
            "2\n",
            "0\n",
            "1\n",
            "2\n",
            "0\n",
            "1\n",
            "2\n",
            "0\n"
          ]
        }
      ]
    },
    {
      "cell_type": "code",
      "source": [
        "(m*x + b) % n"
      ],
      "metadata": {
        "colab": {
          "base_uri": "https://localhost:8080/"
        },
        "id": "mFHO4nlFrIw9",
        "outputId": "423dac27-0a59-4ac6-c78c-a93e51f438a5"
      },
      "execution_count": null,
      "outputs": [
        {
          "output_type": "execute_result",
          "data": {
            "text/plain": [
              "4424"
            ]
          },
          "metadata": {},
          "execution_count": 25
        }
      ]
    },
    {
      "cell_type": "code",
      "source": [
        "x"
      ],
      "metadata": {
        "colab": {
          "base_uri": "https://localhost:8080/"
        },
        "id": "cEHW13H9rSw2",
        "outputId": "253fba57-35af-4918-e3cb-0724eec4d2d7"
      },
      "execution_count": null,
      "outputs": [
        {
          "output_type": "execute_result",
          "data": {
            "text/plain": [
              "58"
            ]
          },
          "metadata": {},
          "execution_count": 26
        }
      ]
    },
    {
      "cell_type": "code",
      "source": [
        "for i in range(10):\n",
        "  print(i % 3)"
      ],
      "metadata": {
        "colab": {
          "base_uri": "https://localhost:8080/"
        },
        "id": "Jiei8qJGrHE5",
        "outputId": "e9bc35e9-4234-441d-e720-d195fa5f598e"
      },
      "execution_count": null,
      "outputs": [
        {
          "output_type": "stream",
          "name": "stdout",
          "text": [
            "0\n",
            "1\n",
            "2\n",
            "0\n",
            "1\n",
            "2\n",
            "0\n",
            "1\n",
            "2\n",
            "0\n"
          ]
        }
      ]
    },
    {
      "cell_type": "code",
      "source": [
        "#this shows left over after divind by 3"
      ],
      "metadata": {
        "id": "YW_OIUsvrCf5"
      },
      "execution_count": null,
      "outputs": []
    },
    {
      "cell_type": "code",
      "source": [
        "X = np.zeros(500,)"
      ],
      "metadata": {
        "id": "tsc1C6Pu7HUc"
      },
      "execution_count": null,
      "outputs": []
    },
    {
      "cell_type": "code",
      "source": [
        "# new array with captial X"
      ],
      "metadata": {
        "id": "ZRnApK_s_hi-"
      },
      "execution_count": null,
      "outputs": []
    },
    {
      "cell_type": "code",
      "source": [
        "x = (m * x + b) % n"
      ],
      "metadata": {
        "id": "uYYGnjjW318n"
      },
      "execution_count": null,
      "outputs": []
    },
    {
      "cell_type": "code",
      "source": [
        "# % means divide by but keeps only the remainder"
      ],
      "metadata": {
        "id": "qL3_PNbm_oGe"
      },
      "execution_count": null,
      "outputs": []
    },
    {
      "cell_type": "code",
      "source": [
        "for i in range(X.shape[0]):\n",
        "\n",
        "    x = (m * x + b) % n\n",
        "    \n",
        "    X[i] = x\n",
        "\n",
        "X /= np.max(X)"
      ],
      "metadata": {
        "id": "YIkRsEGa6z7k"
      },
      "execution_count": null,
      "outputs": []
    },
    {
      "cell_type": "code",
      "source": [],
      "metadata": {
        "id": "ayxQ88-3ru6f"
      },
      "execution_count": null,
      "outputs": []
    },
    {
      "cell_type": "code",
      "source": [
        "plt.plot(X[:10],'.')"
      ],
      "metadata": {
        "id": "CSo6lY_w73zE",
        "outputId": "ad729425-c742-446f-a6e3-696262f566dd",
        "colab": {
          "base_uri": "https://localhost:8080/",
          "height": 284
        }
      },
      "execution_count": null,
      "outputs": [
        {
          "output_type": "execute_result",
          "data": {
            "text/plain": [
              "[<matplotlib.lines.Line2D at 0x7f619c103b90>]"
            ]
          },
          "metadata": {},
          "execution_count": 34
        },
        {
          "output_type": "display_data",
          "data": {
            "text/plain": [
              "<Figure size 432x288 with 1 Axes>"
            ],
            "image/png": "[encoded data removed]"
          },
          "metadata": {
            "needs_background": "light"
          }
        }
      ]
    },
    {
      "cell_type": "code",
      "source": [
        "plt.plot(X[:100],'.')"
      ],
      "metadata": {
        "colab": {
          "base_uri": "https://localhost:8080/",
          "height": 282
        },
        "id": "iQQ681V_AFYP",
        "outputId": "018b6ea9-2cd2-49a2-adfc-803342082b3f"
      },
      "execution_count": null,
      "outputs": [
        {
          "output_type": "execute_result",
          "data": {
            "text/plain": [
              "[<matplotlib.lines.Line2D at 0x7f619bba1e50>]"
            ]
          },
          "metadata": {},
          "execution_count": 35
        },
        {
          "output_type": "display_data",
          "data": {
            "text/plain": [
              "<Figure size 432x288 with 1 Axes>"
            ],
            "image/png": "[encoded data removed]"
          },
          "metadata": {
            "needs_background": "light"
          }
        }
      ]
    },
    {
      "cell_type": "code",
      "source": [
        "# the number we put gives us how many plots"
      ],
      "metadata": {
        "id": "hX2Ix6b3AKAH"
      },
      "execution_count": null,
      "outputs": []
    },
    {
      "cell_type": "code",
      "source": [
        "# divide by max means biggest number equals 1"
      ],
      "metadata": {
        "id": "P4wDAV5M_5VI"
      },
      "execution_count": null,
      "outputs": []
    },
    {
      "cell_type": "code",
      "source": [
        "plt.hist(X);"
      ],
      "metadata": {
        "id": "_0KkpxTi650i",
        "colab": {
          "base_uri": "https://localhost:8080/",
          "height": 265
        },
        "outputId": "b79d18bd-2916-41dc-e6f2-cdc2d312c185"
      },
      "execution_count": null,
      "outputs": [
        {
          "output_type": "display_data",
          "data": {
            "text/plain": [
              "<Figure size 432x288 with 1 Axes>"
            ],
            "image/png": "[encoded data removed]"
          },
          "metadata": {
            "needs_background": "light"
          }
        }
      ]
    },
    {
      "cell_type": "code",
      "source": [
        "# hist= histogram --> distrubtion"
      ],
      "metadata": {
        "id": "21a46C21AQxa"
      },
      "execution_count": null,
      "outputs": []
    },
    {
      "cell_type": "code",
      "source": [
        "# this is a uniform distrubution"
      ],
      "metadata": {
        "id": "eyrtqch_AY3P"
      },
      "execution_count": null,
      "outputs": []
    },
    {
      "cell_type": "code",
      "source": [
        "plt.hist(X,100);"
      ],
      "metadata": {
        "id": "vp84AO4c7-QP",
        "colab": {
          "base_uri": "https://localhost:8080/",
          "height": 265
        },
        "outputId": "c87168ea-634e-4b46-d6c0-9262d81821fb"
      },
      "execution_count": null,
      "outputs": [
        {
          "output_type": "display_data",
          "data": {
            "text/plain": [
              "<Figure size 432x288 with 1 Axes>"
            ],
            "image/png": "[encoded data removed]"
          },
          "metadata": {
            "needs_background": "light"
          }
        }
      ]
    },
    {
      "cell_type": "code",
      "source": [
        "# the second number tells us how many bars we have"
      ],
      "metadata": {
        "id": "poRVwkQwAdzC"
      },
      "execution_count": null,
      "outputs": []
    },
    {
      "cell_type": "code",
      "source": [
        "X"
      ],
      "metadata": {
        "id": "T8Wl-5_Zmc7u",
        "colab": {
          "base_uri": "https://localhost:8080/"
        },
        "outputId": "42ece7e1-6d1b-417d-8992-614b1462c3d0"
      },
      "execution_count": null,
      "outputs": [
        {
          "output_type": "execute_result",
          "data": {
            "text/plain": [
              "array([6.40020779e-02, 7.96030618e-01, 6.25903348e-01, 8.83439520e-01,\n",
              "       1.72373226e-01, 9.13355029e-01, 4.13408504e-01, 9.67349620e-01,\n",
              "       4.57747017e-01, 2.87482239e-01, 5.34705352e-01, 5.14736215e-02,\n",
              "       8.57710348e-01, 2.45313288e-01, 3.75975921e-01, 1.62533804e-01,\n",
              "       1.75398390e-01, 1.38928359e-01, 4.07617913e-01, 5.33055263e-01,\n",
              "       9.29030878e-01, 5.87783227e-01, 2.70584101e-02, 2.78834548e-02,\n",
              "       8.97618065e-02, 7.25382347e-01, 3.33852806e-01, 7.24205894e-03,\n",
              "       5.44285038e-01, 7.69950039e-01, 6.72487815e-01, 3.72018762e-01,\n",
              "       8.67060855e-01, 9.46601274e-01, 9.04248980e-01, 7.31768804e-01,\n",
              "       8.12837084e-01, 8.85074330e-01, 2.94984034e-01, 9.60260347e-02,\n",
              "       1.93885502e-01, 5.24147836e-01, 2.60973858e-01, 5.49204749e-01,\n",
              "       1.37614399e-01, 3.09070908e-01, 1.51227636e-01, 3.28749752e-01,\n",
              "       6.25826955e-01, 8.77710043e-01, 7.43976410e-01, 7.27093551e-01,\n",
              "       4.62193091e-01, 6.20937801e-01, 5.11023514e-01, 2.77963667e-01,\n",
              "       8.22126476e-01, 5.80464775e-01, 4.79488472e-01, 9.16777437e-01,\n",
              "       6.70089074e-01, 1.92113184e-01, 3.91223969e-01, 3.04823456e-01,\n",
              "       8.33982674e-01, 4.68365648e-01, 8.25655834e-02, 1.85665612e-01,\n",
              "       9.08970069e-01, 8.45365235e-02, 3.33486119e-01, 9.81054529e-01,\n",
              "       4.84301233e-01, 2.76420528e-01, 7.06391041e-01, 9.12132741e-01,\n",
              "       3.21736872e-01, 9.98609647e-02, 4.81505248e-01, 6.67216696e-02,\n",
              "       1.00000000e+00, 9.03897572e-01, 7.05413210e-01, 8.38795435e-01,\n",
              "       8.29322699e-01, 1.18867550e-01, 9.05685169e-01, 8.39482972e-01,\n",
              "       8.80887993e-01, 9.82322654e-01, 5.79410551e-01, 4.00421690e-01,\n",
              "       9.94652488e-01, 5.02834181e-01, 6.65077692e-01, 8.17573452e-01,\n",
              "       2.38987945e-01, 9.02889184e-01, 6.29784113e-01, 1.73182992e-01,\n",
              "       9.74087485e-01, 9.63086889e-01, 1.38042200e-01, 3.41155979e-01,\n",
              "       5.54980061e-01, 5.70762861e-01, 7.53158852e-01, 4.14462728e-01,\n",
              "       4.51024430e-02, 3.79871965e-01, 4.54737132e-01, 6.17408443e-02,\n",
              "       6.26438099e-01, 9.23545859e-01, 1.76406778e-01, 2.14557455e-01,\n",
              "       7.19163955e-02, 3.88290477e-01, 8.48115384e-02, 3.54112237e-01,\n",
              "       5.25385403e-01, 3.53791386e-01, 5.01321599e-01, 5.51634047e-01,\n",
              "       3.19811768e-01, 9.56792104e-01, 6.67247254e-01, 9.80290599e-01,\n",
              "       4.27006463e-01, 9.85882569e-01, 8.46404180e-01, 3.98664650e-01,\n",
              "       8.62874517e-01, 6.32625934e-01, 3.86319537e-01, 9.38304992e-01,\n",
              "       2.82027777e-01, 1.25620693e-01, 4.10856977e-01, 7.75985088e-01,\n",
              "       1.23802539e-01, 2.74495424e-01, 5.62008220e-01, 9.65607859e-02,\n",
              "       2.33991841e-01, 5.28181388e-01, 5.63490245e-01, 2.07712640e-01,\n",
              "       5.59869215e-01, 9.37449390e-01, 2.17857634e-01, 3.19429802e-01,\n",
              "       9.28144719e-01, 5.21321294e-01, 4.89832088e-02, 6.70929398e-01,\n",
              "       2.55137431e-01, 1.11472705e-01, 3.51071794e-01, 2.97352218e-01,\n",
              "       2.73639822e-01, 4.97838077e-01, 2.90369895e-01, 7.51279583e-01,\n",
              "       2.73517593e-01, 4.88670914e-01, 6.04146613e-01, 2.52998426e-01,\n",
              "       9.52361308e-01, 3.34937587e-01, 8.86006325e-02, 6.38294296e-01,\n",
              "       8.11446731e-01, 7.80797849e-01, 4.84759591e-01, 3.10797390e-01,\n",
              "       2.80713816e-01, 2.70736887e-02, 2.90293502e-02, 1.75703962e-01,\n",
              "       1.61846267e-01, 1.23833097e-01, 2.76787215e-01, 7.33892530e-01,\n",
              "       9.72116545e-01, 8.15266382e-01, 6.59577394e-02, 9.42705230e-01,\n",
              "       6.12045652e-01, 8.45426349e-01, 3.25327344e-01, 3.69146384e-01,\n",
              "       6.51632519e-01, 8.10499458e-01, 7.09752334e-01, 1.62915769e-01,\n",
              "       2.04045775e-01, 2.84854318e-01, 3.37611343e-01, 2.89132328e-01,\n",
              "       6.58462056e-01, 3.21400743e-01, 7.46512658e-02, 5.93405754e-01,\n",
              "       4.48747918e-01, 6.13863807e-01, 9.81787902e-01, 5.39304212e-01,\n",
              "       3.96388138e-01, 6.92136102e-01, 8.44326290e-01, 2.42822875e-01,\n",
              "       1.89194970e-01, 1.72357947e-01, 9.12209134e-01, 3.27466349e-01,\n",
              "       5.29571741e-01, 6.67766726e-01, 1.79370827e-02, 3.45097859e-01,\n",
              "       8.50621075e-01, 7.14931781e-01, 5.51374311e-01, 3.00331546e-01,\n",
              "       4.97089426e-01, 2.34221020e-01, 5.45369819e-01, 8.51308613e-01,\n",
              "       7.66497074e-01, 4.13515454e-01, 9.75370888e-01, 5.80281432e-02,\n",
              "       3.47985516e-01, 6.58813464e-02, 9.36975753e-01, 1.82334876e-01,\n",
              "       6.59164871e-01, 3.74111931e-01, 2.27345648e-02, 7.04909016e-01,\n",
              "       8.00980886e-01, 9.97173458e-01, 6.91906923e-01, 8.27137859e-01,\n",
              "       9.56318467e-01, 6.31724496e-01, 3.18711708e-01, 8.74287635e-01,\n",
              "       4.87295840e-01, 5.01016027e-01, 5.28716139e-01, 6.03596584e-01,\n",
              "       2.11746192e-01, 8.62385601e-01, 5.95957281e-01, 6.40112451e-01,\n",
              "       9.47808284e-01, 9.94774717e-01, 5.12001345e-01, 3.51300973e-01,\n",
              "       3.14540649e-01, 5.61458190e-01, 5.53085514e-02, 1.44016134e-01,\n",
              "       7.89201082e-01, 1.13688103e-01, 5.17226628e-01, 7.43197201e-01,\n",
              "       6.68652885e-01, 8.43990161e-02, 3.23173061e-01, 2.07575133e-01,\n",
              "       5.49556157e-01, 1.63969993e-01, 2.83112557e-01, 2.06979267e-01,\n",
              "       5.04866236e-01, 8.17481780e-01, 2.32112573e-01, 3.87236253e-01,\n",
              "       5.74475562e-03, 4.31987288e-01, 3.58130510e-01, 8.26755894e-01,\n",
              "       9.27671082e-01, 4.85798536e-01, 3.88718278e-01, 1.16896610e-01,\n",
              "       7.57864662e-01, 7.67398512e-01, 4.81123283e-01, 3.80742846e-02,\n",
              "       8.54074040e-01, 9.73904142e-01, 9.49336145e-01, 1.08050297e-01,\n",
              "       9.43912240e-02, 7.12746940e-02, 3.40162870e-01, 4.80496860e-01,\n",
              "       9.92406533e-01, 3.34387557e-01, 4.73483980e-02, 5.48318589e-01,\n",
              "       7.11524652e-02, 3.30995707e-01, 7.94273579e-01, 4.94125376e-01,\n",
              "       1.19173122e-02, 8.94929031e-01, 3.27726085e-02, 4.56448335e-01,\n",
              "       1.90081129e-01, 2.38819881e-01, 8.90284335e-01, 6.85734366e-01,\n",
              "       3.64196116e-01, 2.80362409e-01, 7.18094452e-04, 5.49877007e-02,\n",
              "       1.19952331e-01, 9.87043743e-01, 9.33492231e-01, 9.22384685e-01,\n",
              "       8.93187270e-02, 6.92151380e-01, 8.45472185e-01, 3.28765030e-01,\n",
              "       6.26972850e-01, 9.63652198e-01, 1.80440329e-01, 5.17073841e-01,\n",
              "       7.31738247e-01, 8.10545293e-01, 7.13190020e-01, 4.20742235e-01,\n",
              "       5.16065454e-01, 6.56109150e-01, 1.44932851e-01, 8.57954806e-01,\n",
              "       2.63647614e-01, 7.49736444e-01, 1.57782158e-01, 8.20338879e-01,\n",
              "       4.46395013e-01, 4.37395915e-01, 7.63777482e-01, 2.09546073e-01,\n",
              "       6.97376663e-01, 2.36054453e-01, 6.82877267e-01, 1.49913676e-01,\n",
              "       2.30202747e-01, 2.43999328e-01, 2.77428916e-01, 7.82020137e-01,\n",
              "       5.76431223e-01, 1.76972086e-01, 2.56955585e-01, 2.47834258e-01,\n",
              "       5.65048662e-01, 3.24593971e-01, 3.14143405e-01, 5.31664910e-01,\n",
              "       8.24754396e-01, 7.77558784e-01, 2.41829766e-01, 1.14711769e-01,\n",
              "       5.94001620e-01, 4.93437839e-01, 9.61665979e-01, 3.14739271e-02,\n",
              "       3.59047226e-01, 8.95509618e-01, 7.63166338e-02, 7.18308353e-01,\n",
              "       8.04617195e-01, 2.68582604e-01, 1.18546699e-01, 8.81621366e-01,\n",
              "       3.60116729e-02, 6.99378161e-01, 3.86166751e-01, 9.26846037e-01,\n",
              "       4.23920185e-01, 7.54411697e-01, 5.08426151e-01, 8.31614490e-02,\n",
              "       2.30355533e-01, 2.55458282e-01, 1.35536508e-01, 1.53229133e-01,\n",
              "       4.78862049e-01, 8.69795725e-01, 1.50402591e-01, 2.66871400e-01,\n",
              "       9.91520374e-01, 2.67925624e-01, 6.92731967e-02, 1.90050572e-01,\n",
              "       2.36528090e-01, 7.18400024e-01, 8.11492567e-01, 7.84235535e-01,\n",
              "       7.42586057e-01, 6.22817069e-01, 6.51968648e-01, 8.35709156e-01,\n",
              "       5.97851828e-01, 7.82203480e-01, 5.90181968e-01, 2.06963988e-01,\n",
              "       5.03720340e-01, 7.31539625e-01, 7.95648653e-01, 5.97255962e-01,\n",
              "       7.37513560e-01, 2.42379796e-01, 1.55964004e-01, 6.83977327e-01,\n",
              "       2.32418145e-01, 4.10154161e-01, 7.23273900e-01, 1.75719240e-01,\n",
              "       1.62992162e-01, 2.09775252e-01, 7.14565094e-01, 5.23872821e-01,\n",
              "       2.40347741e-01, 3.55991505e-03, 2.68124246e-01, 8.41698370e-02,\n",
              "       3.05984630e-01, 9.21070725e-01, 9.92085682e-01, 3.10323754e-01,\n",
              "       2.45191059e-01, 3.66808758e-01, 4.76310522e-01, 6.78431193e-01,\n",
              "       8.17772074e-01, 2.53884585e-01, 1.75092818e-02, 3.13012788e-01,\n",
              "       4.46868650e-01, 4.72918672e-01, 4.24042413e-01, 7.63578861e-01,\n",
              "       1.94649432e-01, 5.81442606e-01, 5.52825778e-01, 4.09191609e-01,\n",
              "       6.51082489e-01, 7.69247223e-01, 6.19776627e-01, 4.23935463e-01,\n",
              "       7.55557593e-01, 5.94368306e-01, 5.20939329e-01, 2.03358237e-02,\n",
              "       5.25003438e-01, 3.25144001e-01, 3.55395639e-01, 6.21640617e-01,\n",
              "       5.63734702e-01, 2.26046966e-01, 9.33629738e-01, 9.32697743e-01,\n",
              "       8.62798124e-01, 6.26896457e-01, 9.57922721e-01, 7.52043513e-01,\n",
              "       3.30812363e-01, 7.80522834e-01, 4.64133474e-01, 7.66466517e-01,\n",
              "       4.11223664e-01, 8.03486578e-01, 1.83786344e-01, 7.68024935e-01,\n",
              "       5.28104995e-01, 5.57760768e-01, 7.79315824e-01, 3.73607737e-01,\n",
              "       9.86233977e-01, 8.72759774e-01, 3.72706299e-01, 9.18626148e-01,\n",
              "       8.08742418e-01, 5.77974363e-01, 2.92707522e-01, 9.26601580e-01,\n",
              "       4.05585858e-01, 3.80651174e-01, 5.13177797e-01, 4.39534919e-01,\n",
              "       9.24202839e-01, 2.25680280e-01, 9.06128249e-01, 8.72713939e-01])"
            ]
          },
          "metadata": {},
          "execution_count": 43
        }
      ]
    },
    {
      "cell_type": "code",
      "source": [
        "X"
      ],
      "metadata": {
        "id": "DT5uuI5hmLBR",
        "colab": {
          "base_uri": "https://localhost:8080/"
        },
        "outputId": "e744c7a4-d469-470f-ceae-8bbad88d2465"
      },
      "execution_count": null,
      "outputs": [
        {
          "output_type": "execute_result",
          "data": {
            "text/plain": [
              "array([6.40020779e-02, 7.96030618e-01, 6.25903348e-01, 8.83439520e-01,\n",
              "       1.72373226e-01, 9.13355029e-01, 4.13408504e-01, 9.67349620e-01,\n",
              "       4.57747017e-01, 2.87482239e-01, 5.34705352e-01, 5.14736215e-02,\n",
              "       8.57710348e-01, 2.45313288e-01, 3.75975921e-01, 1.62533804e-01,\n",
              "       1.75398390e-01, 1.38928359e-01, 4.07617913e-01, 5.33055263e-01,\n",
              "       9.29030878e-01, 5.87783227e-01, 2.70584101e-02, 2.78834548e-02,\n",
              "       8.97618065e-02, 7.25382347e-01, 3.33852806e-01, 7.24205894e-03,\n",
              "       5.44285038e-01, 7.69950039e-01, 6.72487815e-01, 3.72018762e-01,\n",
              "       8.67060855e-01, 9.46601274e-01, 9.04248980e-01, 7.31768804e-01,\n",
              "       8.12837084e-01, 8.85074330e-01, 2.94984034e-01, 9.60260347e-02,\n",
              "       1.93885502e-01, 5.24147836e-01, 2.60973858e-01, 5.49204749e-01,\n",
              "       1.37614399e-01, 3.09070908e-01, 1.51227636e-01, 3.28749752e-01,\n",
              "       6.25826955e-01, 8.77710043e-01, 7.43976410e-01, 7.27093551e-01,\n",
              "       4.62193091e-01, 6.20937801e-01, 5.11023514e-01, 2.77963667e-01,\n",
              "       8.22126476e-01, 5.80464775e-01, 4.79488472e-01, 9.16777437e-01,\n",
              "       6.70089074e-01, 1.92113184e-01, 3.91223969e-01, 3.04823456e-01,\n",
              "       8.33982674e-01, 4.68365648e-01, 8.25655834e-02, 1.85665612e-01,\n",
              "       9.08970069e-01, 8.45365235e-02, 3.33486119e-01, 9.81054529e-01,\n",
              "       4.84301233e-01, 2.76420528e-01, 7.06391041e-01, 9.12132741e-01,\n",
              "       3.21736872e-01, 9.98609647e-02, 4.81505248e-01, 6.67216696e-02,\n",
              "       1.00000000e+00, 9.03897572e-01, 7.05413210e-01, 8.38795435e-01,\n",
              "       8.29322699e-01, 1.18867550e-01, 9.05685169e-01, 8.39482972e-01,\n",
              "       8.80887993e-01, 9.82322654e-01, 5.79410551e-01, 4.00421690e-01,\n",
              "       9.94652488e-01, 5.02834181e-01, 6.65077692e-01, 8.17573452e-01,\n",
              "       2.38987945e-01, 9.02889184e-01, 6.29784113e-01, 1.73182992e-01,\n",
              "       9.74087485e-01, 9.63086889e-01, 1.38042200e-01, 3.41155979e-01,\n",
              "       5.54980061e-01, 5.70762861e-01, 7.53158852e-01, 4.14462728e-01,\n",
              "       4.51024430e-02, 3.79871965e-01, 4.54737132e-01, 6.17408443e-02,\n",
              "       6.26438099e-01, 9.23545859e-01, 1.76406778e-01, 2.14557455e-01,\n",
              "       7.19163955e-02, 3.88290477e-01, 8.48115384e-02, 3.54112237e-01,\n",
              "       5.25385403e-01, 3.53791386e-01, 5.01321599e-01, 5.51634047e-01,\n",
              "       3.19811768e-01, 9.56792104e-01, 6.67247254e-01, 9.80290599e-01,\n",
              "       4.27006463e-01, 9.85882569e-01, 8.46404180e-01, 3.98664650e-01,\n",
              "       8.62874517e-01, 6.32625934e-01, 3.86319537e-01, 9.38304992e-01,\n",
              "       2.82027777e-01, 1.25620693e-01, 4.10856977e-01, 7.75985088e-01,\n",
              "       1.23802539e-01, 2.74495424e-01, 5.62008220e-01, 9.65607859e-02,\n",
              "       2.33991841e-01, 5.28181388e-01, 5.63490245e-01, 2.07712640e-01,\n",
              "       5.59869215e-01, 9.37449390e-01, 2.17857634e-01, 3.19429802e-01,\n",
              "       9.28144719e-01, 5.21321294e-01, 4.89832088e-02, 6.70929398e-01,\n",
              "       2.55137431e-01, 1.11472705e-01, 3.51071794e-01, 2.97352218e-01,\n",
              "       2.73639822e-01, 4.97838077e-01, 2.90369895e-01, 7.51279583e-01,\n",
              "       2.73517593e-01, 4.88670914e-01, 6.04146613e-01, 2.52998426e-01,\n",
              "       9.52361308e-01, 3.34937587e-01, 8.86006325e-02, 6.38294296e-01,\n",
              "       8.11446731e-01, 7.80797849e-01, 4.84759591e-01, 3.10797390e-01,\n",
              "       2.80713816e-01, 2.70736887e-02, 2.90293502e-02, 1.75703962e-01,\n",
              "       1.61846267e-01, 1.23833097e-01, 2.76787215e-01, 7.33892530e-01,\n",
              "       9.72116545e-01, 8.15266382e-01, 6.59577394e-02, 9.42705230e-01,\n",
              "       6.12045652e-01, 8.45426349e-01, 3.25327344e-01, 3.69146384e-01,\n",
              "       6.51632519e-01, 8.10499458e-01, 7.09752334e-01, 1.62915769e-01,\n",
              "       2.04045775e-01, 2.84854318e-01, 3.37611343e-01, 2.89132328e-01,\n",
              "       6.58462056e-01, 3.21400743e-01, 7.46512658e-02, 5.93405754e-01,\n",
              "       4.48747918e-01, 6.13863807e-01, 9.81787902e-01, 5.39304212e-01,\n",
              "       3.96388138e-01, 6.92136102e-01, 8.44326290e-01, 2.42822875e-01,\n",
              "       1.89194970e-01, 1.72357947e-01, 9.12209134e-01, 3.27466349e-01,\n",
              "       5.29571741e-01, 6.67766726e-01, 1.79370827e-02, 3.45097859e-01,\n",
              "       8.50621075e-01, 7.14931781e-01, 5.51374311e-01, 3.00331546e-01,\n",
              "       4.97089426e-01, 2.34221020e-01, 5.45369819e-01, 8.51308613e-01,\n",
              "       7.66497074e-01, 4.13515454e-01, 9.75370888e-01, 5.80281432e-02,\n",
              "       3.47985516e-01, 6.58813464e-02, 9.36975753e-01, 1.82334876e-01,\n",
              "       6.59164871e-01, 3.74111931e-01, 2.27345648e-02, 7.04909016e-01,\n",
              "       8.00980886e-01, 9.97173458e-01, 6.91906923e-01, 8.27137859e-01,\n",
              "       9.56318467e-01, 6.31724496e-01, 3.18711708e-01, 8.74287635e-01,\n",
              "       4.87295840e-01, 5.01016027e-01, 5.28716139e-01, 6.03596584e-01,\n",
              "       2.11746192e-01, 8.62385601e-01, 5.95957281e-01, 6.40112451e-01,\n",
              "       9.47808284e-01, 9.94774717e-01, 5.12001345e-01, 3.51300973e-01,\n",
              "       3.14540649e-01, 5.61458190e-01, 5.53085514e-02, 1.44016134e-01,\n",
              "       7.89201082e-01, 1.13688103e-01, 5.17226628e-01, 7.43197201e-01,\n",
              "       6.68652885e-01, 8.43990161e-02, 3.23173061e-01, 2.07575133e-01,\n",
              "       5.49556157e-01, 1.63969993e-01, 2.83112557e-01, 2.06979267e-01,\n",
              "       5.04866236e-01, 8.17481780e-01, 2.32112573e-01, 3.87236253e-01,\n",
              "       5.74475562e-03, 4.31987288e-01, 3.58130510e-01, 8.26755894e-01,\n",
              "       9.27671082e-01, 4.85798536e-01, 3.88718278e-01, 1.16896610e-01,\n",
              "       7.57864662e-01, 7.67398512e-01, 4.81123283e-01, 3.80742846e-02,\n",
              "       8.54074040e-01, 9.73904142e-01, 9.49336145e-01, 1.08050297e-01,\n",
              "       9.43912240e-02, 7.12746940e-02, 3.40162870e-01, 4.80496860e-01,\n",
              "       9.92406533e-01, 3.34387557e-01, 4.73483980e-02, 5.48318589e-01,\n",
              "       7.11524652e-02, 3.30995707e-01, 7.94273579e-01, 4.94125376e-01,\n",
              "       1.19173122e-02, 8.94929031e-01, 3.27726085e-02, 4.56448335e-01,\n",
              "       1.90081129e-01, 2.38819881e-01, 8.90284335e-01, 6.85734366e-01,\n",
              "       3.64196116e-01, 2.80362409e-01, 7.18094452e-04, 5.49877007e-02,\n",
              "       1.19952331e-01, 9.87043743e-01, 9.33492231e-01, 9.22384685e-01,\n",
              "       8.93187270e-02, 6.92151380e-01, 8.45472185e-01, 3.28765030e-01,\n",
              "       6.26972850e-01, 9.63652198e-01, 1.80440329e-01, 5.17073841e-01,\n",
              "       7.31738247e-01, 8.10545293e-01, 7.13190020e-01, 4.20742235e-01,\n",
              "       5.16065454e-01, 6.56109150e-01, 1.44932851e-01, 8.57954806e-01,\n",
              "       2.63647614e-01, 7.49736444e-01, 1.57782158e-01, 8.20338879e-01,\n",
              "       4.46395013e-01, 4.37395915e-01, 7.63777482e-01, 2.09546073e-01,\n",
              "       6.97376663e-01, 2.36054453e-01, 6.82877267e-01, 1.49913676e-01,\n",
              "       2.30202747e-01, 2.43999328e-01, 2.77428916e-01, 7.82020137e-01,\n",
              "       5.76431223e-01, 1.76972086e-01, 2.56955585e-01, 2.47834258e-01,\n",
              "       5.65048662e-01, 3.24593971e-01, 3.14143405e-01, 5.31664910e-01,\n",
              "       8.24754396e-01, 7.77558784e-01, 2.41829766e-01, 1.14711769e-01,\n",
              "       5.94001620e-01, 4.93437839e-01, 9.61665979e-01, 3.14739271e-02,\n",
              "       3.59047226e-01, 8.95509618e-01, 7.63166338e-02, 7.18308353e-01,\n",
              "       8.04617195e-01, 2.68582604e-01, 1.18546699e-01, 8.81621366e-01,\n",
              "       3.60116729e-02, 6.99378161e-01, 3.86166751e-01, 9.26846037e-01,\n",
              "       4.23920185e-01, 7.54411697e-01, 5.08426151e-01, 8.31614490e-02,\n",
              "       2.30355533e-01, 2.55458282e-01, 1.35536508e-01, 1.53229133e-01,\n",
              "       4.78862049e-01, 8.69795725e-01, 1.50402591e-01, 2.66871400e-01,\n",
              "       9.91520374e-01, 2.67925624e-01, 6.92731967e-02, 1.90050572e-01,\n",
              "       2.36528090e-01, 7.18400024e-01, 8.11492567e-01, 7.84235535e-01,\n",
              "       7.42586057e-01, 6.22817069e-01, 6.51968648e-01, 8.35709156e-01,\n",
              "       5.97851828e-01, 7.82203480e-01, 5.90181968e-01, 2.06963988e-01,\n",
              "       5.03720340e-01, 7.31539625e-01, 7.95648653e-01, 5.97255962e-01,\n",
              "       7.37513560e-01, 2.42379796e-01, 1.55964004e-01, 6.83977327e-01,\n",
              "       2.32418145e-01, 4.10154161e-01, 7.23273900e-01, 1.75719240e-01,\n",
              "       1.62992162e-01, 2.09775252e-01, 7.14565094e-01, 5.23872821e-01,\n",
              "       2.40347741e-01, 3.55991505e-03, 2.68124246e-01, 8.41698370e-02,\n",
              "       3.05984630e-01, 9.21070725e-01, 9.92085682e-01, 3.10323754e-01,\n",
              "       2.45191059e-01, 3.66808758e-01, 4.76310522e-01, 6.78431193e-01,\n",
              "       8.17772074e-01, 2.53884585e-01, 1.75092818e-02, 3.13012788e-01,\n",
              "       4.46868650e-01, 4.72918672e-01, 4.24042413e-01, 7.63578861e-01,\n",
              "       1.94649432e-01, 5.81442606e-01, 5.52825778e-01, 4.09191609e-01,\n",
              "       6.51082489e-01, 7.69247223e-01, 6.19776627e-01, 4.23935463e-01,\n",
              "       7.55557593e-01, 5.94368306e-01, 5.20939329e-01, 2.03358237e-02,\n",
              "       5.25003438e-01, 3.25144001e-01, 3.55395639e-01, 6.21640617e-01,\n",
              "       5.63734702e-01, 2.26046966e-01, 9.33629738e-01, 9.32697743e-01,\n",
              "       8.62798124e-01, 6.26896457e-01, 9.57922721e-01, 7.52043513e-01,\n",
              "       3.30812363e-01, 7.80522834e-01, 4.64133474e-01, 7.66466517e-01,\n",
              "       4.11223664e-01, 8.03486578e-01, 1.83786344e-01, 7.68024935e-01,\n",
              "       5.28104995e-01, 5.57760768e-01, 7.79315824e-01, 3.73607737e-01,\n",
              "       9.86233977e-01, 8.72759774e-01, 3.72706299e-01, 9.18626148e-01,\n",
              "       8.08742418e-01, 5.77974363e-01, 2.92707522e-01, 9.26601580e-01,\n",
              "       4.05585858e-01, 3.80651174e-01, 5.13177797e-01, 4.39534919e-01,\n",
              "       9.24202839e-01, 2.25680280e-01, 9.06128249e-01, 8.72713939e-01])"
            ]
          },
          "metadata": {},
          "execution_count": 44
        }
      ]
    },
    {
      "cell_type": "code",
      "source": [
        "X"
      ],
      "metadata": {
        "id": "vD9eRx2j1mXM",
        "colab": {
          "base_uri": "https://localhost:8080/"
        },
        "outputId": "8ecb82a6-3db6-45a6-b2e5-efbabd159418"
      },
      "execution_count": null,
      "outputs": [
        {
          "output_type": "execute_result",
          "data": {
            "text/plain": [
              "array([6.40020779e-02, 7.96030618e-01, 6.25903348e-01, 8.83439520e-01,\n",
              "       1.72373226e-01, 9.13355029e-01, 4.13408504e-01, 9.67349620e-01,\n",
              "       4.57747017e-01, 2.87482239e-01, 5.34705352e-01, 5.14736215e-02,\n",
              "       8.57710348e-01, 2.45313288e-01, 3.75975921e-01, 1.62533804e-01,\n",
              "       1.75398390e-01, 1.38928359e-01, 4.07617913e-01, 5.33055263e-01,\n",
              "       9.29030878e-01, 5.87783227e-01, 2.70584101e-02, 2.78834548e-02,\n",
              "       8.97618065e-02, 7.25382347e-01, 3.33852806e-01, 7.24205894e-03,\n",
              "       5.44285038e-01, 7.69950039e-01, 6.72487815e-01, 3.72018762e-01,\n",
              "       8.67060855e-01, 9.46601274e-01, 9.04248980e-01, 7.31768804e-01,\n",
              "       8.12837084e-01, 8.85074330e-01, 2.94984034e-01, 9.60260347e-02,\n",
              "       1.93885502e-01, 5.24147836e-01, 2.60973858e-01, 5.49204749e-01,\n",
              "       1.37614399e-01, 3.09070908e-01, 1.51227636e-01, 3.28749752e-01,\n",
              "       6.25826955e-01, 8.77710043e-01, 7.43976410e-01, 7.27093551e-01,\n",
              "       4.62193091e-01, 6.20937801e-01, 5.11023514e-01, 2.77963667e-01,\n",
              "       8.22126476e-01, 5.80464775e-01, 4.79488472e-01, 9.16777437e-01,\n",
              "       6.70089074e-01, 1.92113184e-01, 3.91223969e-01, 3.04823456e-01,\n",
              "       8.33982674e-01, 4.68365648e-01, 8.25655834e-02, 1.85665612e-01,\n",
              "       9.08970069e-01, 8.45365235e-02, 3.33486119e-01, 9.81054529e-01,\n",
              "       4.84301233e-01, 2.76420528e-01, 7.06391041e-01, 9.12132741e-01,\n",
              "       3.21736872e-01, 9.98609647e-02, 4.81505248e-01, 6.67216696e-02,\n",
              "       1.00000000e+00, 9.03897572e-01, 7.05413210e-01, 8.38795435e-01,\n",
              "       8.29322699e-01, 1.18867550e-01, 9.05685169e-01, 8.39482972e-01,\n",
              "       8.80887993e-01, 9.82322654e-01, 5.79410551e-01, 4.00421690e-01,\n",
              "       9.94652488e-01, 5.02834181e-01, 6.65077692e-01, 8.17573452e-01,\n",
              "       2.38987945e-01, 9.02889184e-01, 6.29784113e-01, 1.73182992e-01,\n",
              "       9.74087485e-01, 9.63086889e-01, 1.38042200e-01, 3.41155979e-01,\n",
              "       5.54980061e-01, 5.70762861e-01, 7.53158852e-01, 4.14462728e-01,\n",
              "       4.51024430e-02, 3.79871965e-01, 4.54737132e-01, 6.17408443e-02,\n",
              "       6.26438099e-01, 9.23545859e-01, 1.76406778e-01, 2.14557455e-01,\n",
              "       7.19163955e-02, 3.88290477e-01, 8.48115384e-02, 3.54112237e-01,\n",
              "       5.25385403e-01, 3.53791386e-01, 5.01321599e-01, 5.51634047e-01,\n",
              "       3.19811768e-01, 9.56792104e-01, 6.67247254e-01, 9.80290599e-01,\n",
              "       4.27006463e-01, 9.85882569e-01, 8.46404180e-01, 3.98664650e-01,\n",
              "       8.62874517e-01, 6.32625934e-01, 3.86319537e-01, 9.38304992e-01,\n",
              "       2.82027777e-01, 1.25620693e-01, 4.10856977e-01, 7.75985088e-01,\n",
              "       1.23802539e-01, 2.74495424e-01, 5.62008220e-01, 9.65607859e-02,\n",
              "       2.33991841e-01, 5.28181388e-01, 5.63490245e-01, 2.07712640e-01,\n",
              "       5.59869215e-01, 9.37449390e-01, 2.17857634e-01, 3.19429802e-01,\n",
              "       9.28144719e-01, 5.21321294e-01, 4.89832088e-02, 6.70929398e-01,\n",
              "       2.55137431e-01, 1.11472705e-01, 3.51071794e-01, 2.97352218e-01,\n",
              "       2.73639822e-01, 4.97838077e-01, 2.90369895e-01, 7.51279583e-01,\n",
              "       2.73517593e-01, 4.88670914e-01, 6.04146613e-01, 2.52998426e-01,\n",
              "       9.52361308e-01, 3.34937587e-01, 8.86006325e-02, 6.38294296e-01,\n",
              "       8.11446731e-01, 7.80797849e-01, 4.84759591e-01, 3.10797390e-01,\n",
              "       2.80713816e-01, 2.70736887e-02, 2.90293502e-02, 1.75703962e-01,\n",
              "       1.61846267e-01, 1.23833097e-01, 2.76787215e-01, 7.33892530e-01,\n",
              "       9.72116545e-01, 8.15266382e-01, 6.59577394e-02, 9.42705230e-01,\n",
              "       6.12045652e-01, 8.45426349e-01, 3.25327344e-01, 3.69146384e-01,\n",
              "       6.51632519e-01, 8.10499458e-01, 7.09752334e-01, 1.62915769e-01,\n",
              "       2.04045775e-01, 2.84854318e-01, 3.37611343e-01, 2.89132328e-01,\n",
              "       6.58462056e-01, 3.21400743e-01, 7.46512658e-02, 5.93405754e-01,\n",
              "       4.48747918e-01, 6.13863807e-01, 9.81787902e-01, 5.39304212e-01,\n",
              "       3.96388138e-01, 6.92136102e-01, 8.44326290e-01, 2.42822875e-01,\n",
              "       1.89194970e-01, 1.72357947e-01, 9.12209134e-01, 3.27466349e-01,\n",
              "       5.29571741e-01, 6.67766726e-01, 1.79370827e-02, 3.45097859e-01,\n",
              "       8.50621075e-01, 7.14931781e-01, 5.51374311e-01, 3.00331546e-01,\n",
              "       4.97089426e-01, 2.34221020e-01, 5.45369819e-01, 8.51308613e-01,\n",
              "       7.66497074e-01, 4.13515454e-01, 9.75370888e-01, 5.80281432e-02,\n",
              "       3.47985516e-01, 6.58813464e-02, 9.36975753e-01, 1.82334876e-01,\n",
              "       6.59164871e-01, 3.74111931e-01, 2.27345648e-02, 7.04909016e-01,\n",
              "       8.00980886e-01, 9.97173458e-01, 6.91906923e-01, 8.27137859e-01,\n",
              "       9.56318467e-01, 6.31724496e-01, 3.18711708e-01, 8.74287635e-01,\n",
              "       4.87295840e-01, 5.01016027e-01, 5.28716139e-01, 6.03596584e-01,\n",
              "       2.11746192e-01, 8.62385601e-01, 5.95957281e-01, 6.40112451e-01,\n",
              "       9.47808284e-01, 9.94774717e-01, 5.12001345e-01, 3.51300973e-01,\n",
              "       3.14540649e-01, 5.61458190e-01, 5.53085514e-02, 1.44016134e-01,\n",
              "       7.89201082e-01, 1.13688103e-01, 5.17226628e-01, 7.43197201e-01,\n",
              "       6.68652885e-01, 8.43990161e-02, 3.23173061e-01, 2.07575133e-01,\n",
              "       5.49556157e-01, 1.63969993e-01, 2.83112557e-01, 2.06979267e-01,\n",
              "       5.04866236e-01, 8.17481780e-01, 2.32112573e-01, 3.87236253e-01,\n",
              "       5.74475562e-03, 4.31987288e-01, 3.58130510e-01, 8.26755894e-01,\n",
              "       9.27671082e-01, 4.85798536e-01, 3.88718278e-01, 1.16896610e-01,\n",
              "       7.57864662e-01, 7.67398512e-01, 4.81123283e-01, 3.80742846e-02,\n",
              "       8.54074040e-01, 9.73904142e-01, 9.49336145e-01, 1.08050297e-01,\n",
              "       9.43912240e-02, 7.12746940e-02, 3.40162870e-01, 4.80496860e-01,\n",
              "       9.92406533e-01, 3.34387557e-01, 4.73483980e-02, 5.48318589e-01,\n",
              "       7.11524652e-02, 3.30995707e-01, 7.94273579e-01, 4.94125376e-01,\n",
              "       1.19173122e-02, 8.94929031e-01, 3.27726085e-02, 4.56448335e-01,\n",
              "       1.90081129e-01, 2.38819881e-01, 8.90284335e-01, 6.85734366e-01,\n",
              "       3.64196116e-01, 2.80362409e-01, 7.18094452e-04, 5.49877007e-02,\n",
              "       1.19952331e-01, 9.87043743e-01, 9.33492231e-01, 9.22384685e-01,\n",
              "       8.93187270e-02, 6.92151380e-01, 8.45472185e-01, 3.28765030e-01,\n",
              "       6.26972850e-01, 9.63652198e-01, 1.80440329e-01, 5.17073841e-01,\n",
              "       7.31738247e-01, 8.10545293e-01, 7.13190020e-01, 4.20742235e-01,\n",
              "       5.16065454e-01, 6.56109150e-01, 1.44932851e-01, 8.57954806e-01,\n",
              "       2.63647614e-01, 7.49736444e-01, 1.57782158e-01, 8.20338879e-01,\n",
              "       4.46395013e-01, 4.37395915e-01, 7.63777482e-01, 2.09546073e-01,\n",
              "       6.97376663e-01, 2.36054453e-01, 6.82877267e-01, 1.49913676e-01,\n",
              "       2.30202747e-01, 2.43999328e-01, 2.77428916e-01, 7.82020137e-01,\n",
              "       5.76431223e-01, 1.76972086e-01, 2.56955585e-01, 2.47834258e-01,\n",
              "       5.65048662e-01, 3.24593971e-01, 3.14143405e-01, 5.31664910e-01,\n",
              "       8.24754396e-01, 7.77558784e-01, 2.41829766e-01, 1.14711769e-01,\n",
              "       5.94001620e-01, 4.93437839e-01, 9.61665979e-01, 3.14739271e-02,\n",
              "       3.59047226e-01, 8.95509618e-01, 7.63166338e-02, 7.18308353e-01,\n",
              "       8.04617195e-01, 2.68582604e-01, 1.18546699e-01, 8.81621366e-01,\n",
              "       3.60116729e-02, 6.99378161e-01, 3.86166751e-01, 9.26846037e-01,\n",
              "       4.23920185e-01, 7.54411697e-01, 5.08426151e-01, 8.31614490e-02,\n",
              "       2.30355533e-01, 2.55458282e-01, 1.35536508e-01, 1.53229133e-01,\n",
              "       4.78862049e-01, 8.69795725e-01, 1.50402591e-01, 2.66871400e-01,\n",
              "       9.91520374e-01, 2.67925624e-01, 6.92731967e-02, 1.90050572e-01,\n",
              "       2.36528090e-01, 7.18400024e-01, 8.11492567e-01, 7.84235535e-01,\n",
              "       7.42586057e-01, 6.22817069e-01, 6.51968648e-01, 8.35709156e-01,\n",
              "       5.97851828e-01, 7.82203480e-01, 5.90181968e-01, 2.06963988e-01,\n",
              "       5.03720340e-01, 7.31539625e-01, 7.95648653e-01, 5.97255962e-01,\n",
              "       7.37513560e-01, 2.42379796e-01, 1.55964004e-01, 6.83977327e-01,\n",
              "       2.32418145e-01, 4.10154161e-01, 7.23273900e-01, 1.75719240e-01,\n",
              "       1.62992162e-01, 2.09775252e-01, 7.14565094e-01, 5.23872821e-01,\n",
              "       2.40347741e-01, 3.55991505e-03, 2.68124246e-01, 8.41698370e-02,\n",
              "       3.05984630e-01, 9.21070725e-01, 9.92085682e-01, 3.10323754e-01,\n",
              "       2.45191059e-01, 3.66808758e-01, 4.76310522e-01, 6.78431193e-01,\n",
              "       8.17772074e-01, 2.53884585e-01, 1.75092818e-02, 3.13012788e-01,\n",
              "       4.46868650e-01, 4.72918672e-01, 4.24042413e-01, 7.63578861e-01,\n",
              "       1.94649432e-01, 5.81442606e-01, 5.52825778e-01, 4.09191609e-01,\n",
              "       6.51082489e-01, 7.69247223e-01, 6.19776627e-01, 4.23935463e-01,\n",
              "       7.55557593e-01, 5.94368306e-01, 5.20939329e-01, 2.03358237e-02,\n",
              "       5.25003438e-01, 3.25144001e-01, 3.55395639e-01, 6.21640617e-01,\n",
              "       5.63734702e-01, 2.26046966e-01, 9.33629738e-01, 9.32697743e-01,\n",
              "       8.62798124e-01, 6.26896457e-01, 9.57922721e-01, 7.52043513e-01,\n",
              "       3.30812363e-01, 7.80522834e-01, 4.64133474e-01, 7.66466517e-01,\n",
              "       4.11223664e-01, 8.03486578e-01, 1.83786344e-01, 7.68024935e-01,\n",
              "       5.28104995e-01, 5.57760768e-01, 7.79315824e-01, 3.73607737e-01,\n",
              "       9.86233977e-01, 8.72759774e-01, 3.72706299e-01, 9.18626148e-01,\n",
              "       8.08742418e-01, 5.77974363e-01, 2.92707522e-01, 9.26601580e-01,\n",
              "       4.05585858e-01, 3.80651174e-01, 5.13177797e-01, 4.39534919e-01,\n",
              "       9.24202839e-01, 2.25680280e-01, 9.06128249e-01, 8.72713939e-01])"
            ]
          },
          "metadata": {},
          "execution_count": 45
        }
      ]
    },
    {
      "cell_type": "code",
      "source": [
        "# gives us random numbers"
      ],
      "metadata": {
        "id": "1G_nXsQeAiof"
      },
      "execution_count": null,
      "outputs": []
    },
    {
      "cell_type": "markdown",
      "source": [
        "### Random Numbers"
      ],
      "metadata": {
        "id": "6GjEVk4y2AYF"
      }
    },
    {
      "cell_type": "code",
      "source": [
        "X = np.random.random(5000000,)"
      ],
      "metadata": {
        "id": "IJ1jsvY73zgS"
      },
      "execution_count": null,
      "outputs": []
    },
    {
      "cell_type": "code",
      "source": [
        "plt.hist(X,100);"
      ],
      "metadata": {
        "id": "U-yEFDkP1oqM",
        "colab": {
          "base_uri": "https://localhost:8080/",
          "height": 265
        },
        "outputId": "c9905aed-d58e-48ea-b52f-2730f1eb328e"
      },
      "execution_count": null,
      "outputs": [
        {
          "output_type": "display_data",
          "data": {
            "text/plain": [
              "<Figure size 432x288 with 1 Axes>"
            ],
            "image/png": "[encoded data removed]"
          },
          "metadata": {
            "needs_background": "light"
          }
        }
      ]
    },
    {
      "cell_type": "code",
      "source": [
        "#bigger number makes it more unifrom--> if results are fair/even"
      ],
      "metadata": {
        "id": "E-Tk5-fXsVtG"
      },
      "execution_count": null,
      "outputs": []
    },
    {
      "cell_type": "code",
      "source": [
        "np.random.random()"
      ],
      "metadata": {
        "id": "fMCyKfmP2Mv_",
        "colab": {
          "base_uri": "https://localhost:8080/"
        },
        "outputId": "f1dc319c-9bb2-42a7-a587-01a4f66f8653"
      },
      "execution_count": null,
      "outputs": [
        {
          "output_type": "execute_result",
          "data": {
            "text/plain": [
              "0.5489743429406426"
            ]
          },
          "metadata": {},
          "execution_count": 50
        }
      ]
    },
    {
      "cell_type": "code",
      "source": [
        "#gives random number"
      ],
      "metadata": {
        "id": "z5W7Shk3odsF"
      },
      "execution_count": null,
      "outputs": []
    },
    {
      "cell_type": "code",
      "source": [
        "np.random.random()"
      ],
      "metadata": {
        "colab": {
          "base_uri": "https://localhost:8080/"
        },
        "id": "fGwd5S3DoYXy",
        "outputId": "3e5c208b-c79e-4d1f-8046-c36500469cc2"
      },
      "execution_count": null,
      "outputs": [
        {
          "output_type": "execute_result",
          "data": {
            "text/plain": [
              "0.0046428036313853616"
            ]
          },
          "metadata": {},
          "execution_count": 52
        }
      ]
    },
    {
      "cell_type": "code",
      "source": [
        "numbers = np.random.randn(2,4)"
      ],
      "metadata": {
        "id": "KR_3PQbooicN"
      },
      "execution_count": null,
      "outputs": []
    },
    {
      "cell_type": "code",
      "source": [
        "\n",
        "numbers.shape"
      ],
      "metadata": {
        "colab": {
          "base_uri": "https://localhost:8080/"
        },
        "id": "CYXq8Y6Ioqnp",
        "outputId": "56d7a6e7-726c-4d41-8174-fe5802188931"
      },
      "execution_count": null,
      "outputs": [
        {
          "output_type": "execute_result",
          "data": {
            "text/plain": [
              "(2, 4)"
            ]
          },
          "metadata": {},
          "execution_count": 54
        }
      ]
    },
    {
      "cell_type": "code",
      "source": [
        "numbers = numbers.reshape(-1)"
      ],
      "metadata": {
        "id": "IaMrgNvVotaS"
      },
      "execution_count": null,
      "outputs": []
    },
    {
      "cell_type": "code",
      "source": [
        "numbers.shape"
      ],
      "metadata": {
        "colab": {
          "base_uri": "https://localhost:8080/"
        },
        "id": "ZYGecQrqozO4",
        "outputId": "b7da1d63-5272-4b38-bffd-cf18f7197e8b"
      },
      "execution_count": null,
      "outputs": [
        {
          "output_type": "execute_result",
          "data": {
            "text/plain": [
              "(8,)"
            ]
          },
          "metadata": {},
          "execution_count": 56
        }
      ]
    },
    {
      "cell_type": "code",
      "source": [
        "plt.hist(numbers)"
      ],
      "metadata": {
        "colab": {
          "base_uri": "https://localhost:8080/",
          "height": 350
        },
        "id": "12k3iLEuo1To",
        "outputId": "8362014d-8c19-4cde-8310-31d8c50027af"
      },
      "execution_count": null,
      "outputs": [
        {
          "output_type": "execute_result",
          "data": {
            "text/plain": [
              "(array([2., 3., 0., 0., 1., 0., 1., 0., 0., 1.]),\n",
              " array([-1.71060707, -1.28963428, -0.8686615 , -0.44768872, -0.02671593,\n",
              "         0.39425685,  0.81522963,  1.23620242,  1.6571752 ,  2.07814799,\n",
              "         2.49912077]),\n",
              " <a list of 10 Patch objects>)"
            ]
          },
          "metadata": {},
          "execution_count": 57
        },
        {
          "output_type": "display_data",
          "data": {
            "text/plain": [
              "<Figure size 432x288 with 1 Axes>"
            ],
            "image/png": "[encoded data removed]"
          },
          "metadata": {
            "needs_background": "light"
          }
        }
      ]
    },
    {
      "cell_type": "code",
      "source": [
        "plt.hist(numbers);"
      ],
      "metadata": {
        "colab": {
          "base_uri": "https://localhost:8080/",
          "height": 265
        },
        "id": "a52DKvp1o5B5",
        "outputId": "8c725878-2a7f-438f-8fa8-42962dc7b53d"
      },
      "execution_count": null,
      "outputs": [
        {
          "output_type": "display_data",
          "data": {
            "text/plain": [
              "<Figure size 432x288 with 1 Axes>"
            ],
            "image/png": "[encoded data removed]"
          },
          "metadata": {
            "needs_background": "light"
          }
        }
      ]
    },
    {
      "cell_type": "code",
      "source": [
        "# semi colon hides numbers at top"
      ],
      "metadata": {
        "id": "HdSFM4Hdo7CT"
      },
      "execution_count": null,
      "outputs": []
    },
    {
      "cell_type": "code",
      "source": [
        "plt.hist(numbers,100);"
      ],
      "metadata": {
        "colab": {
          "base_uri": "https://localhost:8080/",
          "height": 265
        },
        "id": "kzF88EuQo-eQ",
        "outputId": "0c75c6f5-3880-4261-d6a1-b43dc48794d9"
      },
      "execution_count": null,
      "outputs": [
        {
          "output_type": "display_data",
          "data": {
            "text/plain": [
              "<Figure size 432x288 with 1 Axes>"
            ],
            "image/png": "[encoded data removed]"
          },
          "metadata": {
            "needs_background": "light"
          }
        }
      ]
    },
    {
      "cell_type": "code",
      "source": [
        "# adding the 100 gived narrow windows, height tells how many got a range "
      ],
      "metadata": {
        "id": "i8y8OihepDUZ"
      },
      "execution_count": null,
      "outputs": []
    },
    {
      "cell_type": "code",
      "source": [
        "numbers= np.array([1,2,2,3,3,3,4,4,4,4])"
      ],
      "metadata": {
        "id": "4LMkI3JwpJC4"
      },
      "execution_count": null,
      "outputs": []
    },
    {
      "cell_type": "code",
      "source": [
        "plt.hist(numbers,100);"
      ],
      "metadata": {
        "colab": {
          "base_uri": "https://localhost:8080/",
          "height": 265
        },
        "id": "7nC9cUqppTPI",
        "outputId": "882ced2d-1234-4610-bc61-c2f65996b09a"
      },
      "execution_count": null,
      "outputs": [
        {
          "output_type": "display_data",
          "data": {
            "text/plain": [
              "<Figure size 432x288 with 1 Axes>"
            ],
            "image/png": "[encoded data removed]"
          },
          "metadata": {
            "needs_background": "light"
          }
        }
      ]
    },
    {
      "cell_type": "code",
      "source": [
        "r = np.random.random()"
      ],
      "metadata": {
        "id": "KQouRNY_2M9g"
      },
      "execution_count": null,
      "outputs": []
    },
    {
      "cell_type": "code",
      "source": [
        "#makes bins that chooses randomly"
      ],
      "metadata": {
        "id": "Oo9gDEOGpbfQ"
      },
      "execution_count": null,
      "outputs": []
    },
    {
      "cell_type": "code",
      "source": [
        "numbers = np.random.randn(1000,)"
      ],
      "metadata": {
        "id": "6Wsh78idpl-h"
      },
      "execution_count": null,
      "outputs": []
    },
    {
      "cell_type": "code",
      "source": [
        "plt.hist(numbers);"
      ],
      "metadata": {
        "colab": {
          "base_uri": "https://localhost:8080/",
          "height": 265
        },
        "id": "oXi-b7uNpuFJ",
        "outputId": "1449d411-1b25-4978-d38b-12407a076dae"
      },
      "execution_count": null,
      "outputs": [
        {
          "output_type": "display_data",
          "data": {
            "text/plain": [
              "<Figure size 432x288 with 1 Axes>"
            ],
            "image/png": "[encoded data removed]"
          },
          "metadata": {
            "needs_background": "light"
          }
        }
      ]
    },
    {
      "cell_type": "code",
      "source": [
        "#shape begins to form"
      ],
      "metadata": {
        "id": "JOZ07BshpySP"
      },
      "execution_count": null,
      "outputs": []
    },
    {
      "cell_type": "code",
      "source": [
        "numbers = np.random.randn(100000,)"
      ],
      "metadata": {
        "id": "YJrmDGXVp1ix"
      },
      "execution_count": null,
      "outputs": []
    },
    {
      "cell_type": "code",
      "source": [
        "# the n stands for normal dist"
      ],
      "metadata": {
        "id": "bl4WPg18qVLw"
      },
      "execution_count": null,
      "outputs": []
    },
    {
      "cell_type": "code",
      "source": [
        "plt.hist(numbers, 100);"
      ],
      "metadata": {
        "colab": {
          "base_uri": "https://localhost:8080/",
          "height": 266
        },
        "id": "kujHQGTbp5qP",
        "outputId": "d1e8e54f-3dd6-49a0-fe06-5e144acf3a3c"
      },
      "execution_count": null,
      "outputs": [
        {
          "output_type": "display_data",
          "data": {
            "text/plain": [
              "<Figure size 432x288 with 1 Axes>"
            ],
            "image/png": "[encoded data removed]"
          },
          "metadata": {
            "needs_background": "light"
          }
        }
      ]
    },
    {
      "cell_type": "code",
      "source": [
        "#shows total count for each bin"
      ],
      "metadata": {
        "id": "MTh-jV-Cp-GL"
      },
      "execution_count": null,
      "outputs": []
    },
    {
      "cell_type": "code",
      "source": [
        "#bell curve"
      ],
      "metadata": {
        "id": "ixv9AkeroOQJ"
      },
      "execution_count": null,
      "outputs": []
    },
    {
      "cell_type": "code",
      "source": [
        "numbers = np.random.rand(100000,)"
      ],
      "metadata": {
        "id": "kQLtwkJPqEFX"
      },
      "execution_count": null,
      "outputs": []
    },
    {
      "cell_type": "code",
      "source": [
        "plt.hist(numbers,100);"
      ],
      "metadata": {
        "colab": {
          "base_uri": "https://localhost:8080/",
          "height": 265
        },
        "id": "HVnj-lYqqHL7",
        "outputId": "f30f93c2-7e9f-4fc8-a814-72d194bc094c"
      },
      "execution_count": null,
      "outputs": [
        {
          "output_type": "display_data",
          "data": {
            "text/plain": [
              "<Figure size 432x288 with 1 Axes>"
            ],
            "image/png": "[encoded data removed]"
          },
          "metadata": {
            "needs_background": "light"
          }
        }
      ]
    },
    {
      "cell_type": "code",
      "source": [
        "#roughly even/uniform"
      ],
      "metadata": {
        "id": "m4mmnrtFqY3o"
      },
      "execution_count": null,
      "outputs": []
    },
    {
      "cell_type": "code",
      "source": [
        "r"
      ],
      "metadata": {
        "id": "rkZJ6RZf2M_x",
        "colab": {
          "base_uri": "https://localhost:8080/"
        },
        "outputId": "7a362b2e-7d92-4610-e704-6d91777a0f82"
      },
      "execution_count": null,
      "outputs": [
        {
          "output_type": "execute_result",
          "data": {
            "text/plain": [
              "0.8952648526063568"
            ]
          },
          "metadata": {},
          "execution_count": 76
        }
      ]
    },
    {
      "cell_type": "code",
      "source": [
        "r = np.random.randint(1,10)"
      ],
      "metadata": {
        "id": "iaLlvCkO2NCE"
      },
      "execution_count": null,
      "outputs": []
    },
    {
      "cell_type": "code",
      "source": [
        "r"
      ],
      "metadata": {
        "id": "lj0rWfIX2NFX",
        "colab": {
          "base_uri": "https://localhost:8080/"
        },
        "outputId": "52217d0a-07c5-4129-ba3f-2abe8de865f2"
      },
      "execution_count": null,
      "outputs": [
        {
          "output_type": "execute_result",
          "data": {
            "text/plain": [
              "9"
            ]
          },
          "metadata": {},
          "execution_count": 78
        }
      ]
    },
    {
      "cell_type": "code",
      "source": [
        "r = np.random.randint(1,125,size=(1))"
      ],
      "metadata": {
        "id": "NOp2dznVm7vU"
      },
      "execution_count": null,
      "outputs": []
    },
    {
      "cell_type": "code",
      "source": [
        "# 1-125, gives us one output"
      ],
      "metadata": {
        "id": "RFGyY1UhnDL_"
      },
      "execution_count": null,
      "outputs": []
    },
    {
      "cell_type": "code",
      "source": [
        "r = np.random.randint(1,10,size=(10,2))"
      ],
      "metadata": {
        "id": "XaGlEaSe2XGu"
      },
      "execution_count": null,
      "outputs": []
    },
    {
      "cell_type": "code",
      "source": [
        "r"
      ],
      "metadata": {
        "id": "CLqgJ5aTnelg"
      },
      "execution_count": null,
      "outputs": []
    },
    {
      "cell_type": "code",
      "source": [
        "game = ['rock', 'paper','scissors']"
      ],
      "metadata": {
        "id": "RXD5MPuznHof"
      },
      "execution_count": null,
      "outputs": []
    },
    {
      "cell_type": "code",
      "source": [
        "r"
      ],
      "metadata": {
        "id": "P2ILyP5p2XlN",
        "colab": {
          "base_uri": "https://localhost:8080/"
        },
        "outputId": "13c8375b-82ac-4bd5-c164-b313b6df18f5"
      },
      "execution_count": null,
      "outputs": [
        {
          "output_type": "execute_result",
          "data": {
            "text/plain": [
              "array([[9, 4],\n",
              "       [1, 2],\n",
              "       [2, 2],\n",
              "       [4, 3],\n",
              "       [3, 9],\n",
              "       [6, 6],\n",
              "       [9, 3],\n",
              "       [1, 9],\n",
              "       [9, 5],\n",
              "       [9, 6]])"
            ]
          },
          "metadata": {},
          "execution_count": 80
        }
      ]
    },
    {
      "cell_type": "code",
      "source": [
        "import numpy as np"
      ],
      "metadata": {
        "id": "V2tJ6KoqMW7o"
      },
      "execution_count": null,
      "outputs": []
    },
    {
      "cell_type": "code",
      "source": [
        "np.random.randn()"
      ],
      "metadata": {
        "colab": {
          "base_uri": "https://localhost:8080/"
        },
        "id": "oG31_49kn2ZD",
        "outputId": "01e1ef30-7e3d-465c-b7cb-a1a6275eef6a"
      },
      "execution_count": null,
      "outputs": [
        {
          "output_type": "execute_result",
          "data": {
            "text/plain": [
              "-0.6718621373008441"
            ]
          },
          "metadata": {},
          "execution_count": 149
        }
      ]
    },
    {
      "cell_type": "code",
      "source": [],
      "metadata": {
        "id": "_Ly1O2y6n-Kz"
      },
      "execution_count": null,
      "outputs": []
    },
    {
      "cell_type": "code",
      "source": [
        "np.random.seed(12345)\n",
        "data = np.random.randn(2, 100)\n",
        "\n",
        "fig, axs = plt.subplots(2, 2, figsize=(10, 10))\n",
        "axs[0, 0].hist(data[0])\n",
        "axs[1, 0].scatter(data[0], data[1])\n",
        "axs[0, 1].plot(data[0], data[1])\n",
        "axs[1, 1].hist2d(data[0], data[1])\n",
        "\n",
        "plt.show()"
      ],
      "metadata": {
        "id": "YDnLWblCDKzI",
        "colab": {
          "base_uri": "https://localhost:8080/",
          "height": 592
        },
        "outputId": "21300fdc-8dee-4d20-ab09-3f0b23b33ced"
      },
      "execution_count": null,
      "outputs": [
        {
          "output_type": "display_data",
          "data": {
            "text/plain": [
              "<Figure size 720x720 with 4 Axes>"
            ],
            "image/png": "[encoded data removed]"
          },
          "metadata": {
            "needs_background": "light"
          }
        }
      ]
    },
    {
      "cell_type": "markdown",
      "source": [
        "Normal Dist Data"
      ],
      "metadata": {
        "id": "7_JnWdew9Wyi"
      }
    },
    {
      "cell_type": "code",
      "source": [
        "mu = 100  # mean of distribution\n",
        "sigma = 15  # standard deviation of distribution\n",
        "x = mu + sigma * np.random.randn(10000)"
      ],
      "metadata": {
        "id": "uH9ty1AoDLjz"
      },
      "execution_count": null,
      "outputs": []
    },
    {
      "cell_type": "code",
      "source": [
        "#shift shape aroung by changing mean and variance"
      ],
      "metadata": {
        "id": "TXuYitU9oWXR"
      },
      "execution_count": null,
      "outputs": []
    },
    {
      "cell_type": "code",
      "source": [
        "x = 50*np.random.randn(10000)+1000"
      ],
      "metadata": {
        "id": "7D4EmUWfocXs"
      },
      "execution_count": null,
      "outputs": []
    },
    {
      "cell_type": "code",
      "source": [
        "plt.hist(x);"
      ],
      "metadata": {
        "colab": {
          "base_uri": "https://localhost:8080/",
          "height": 265
        },
        "id": "NPYgPr4don1a",
        "outputId": "9873b1c0-dd89-4991-96d2-2e483a482842"
      },
      "execution_count": null,
      "outputs": [
        {
          "output_type": "display_data",
          "data": {
            "text/plain": [
              "<Figure size 432x288 with 1 Axes>"
            ],
            "image/png": "[encoded data removed]"
          },
          "metadata": {
            "needs_background": "light"
          }
        }
      ]
    },
    {
      "cell_type": "code",
      "source": [
        "#centerd at 1000 with 50 inbetween"
      ],
      "metadata": {
        "id": "4p3YqDJ2oznF"
      },
      "execution_count": null,
      "outputs": []
    },
    {
      "cell_type": "code",
      "source": [
        "x = 2*np.random.rand(1000,)-1"
      ],
      "metadata": {
        "id": "nrpp58mrpBUZ"
      },
      "execution_count": null,
      "outputs": []
    },
    {
      "cell_type": "code",
      "source": [
        "plt.hist(x);"
      ],
      "metadata": {
        "colab": {
          "base_uri": "https://localhost:8080/",
          "height": 265
        },
        "id": "AlP_4iIApGFU",
        "outputId": "bb29a55f-fb08-4963-9ecf-5961719424b3"
      },
      "execution_count": null,
      "outputs": [
        {
          "output_type": "display_data",
          "data": {
            "text/plain": [
              "<Figure size 432x288 with 1 Axes>"
            ],
            "image/png": "[encoded data removed]"
          },
          "metadata": {
            "needs_background": "light"
          }
        }
      ]
    },
    {
      "cell_type": "code",
      "source": [
        "#smallest is 0, biggest is 1"
      ],
      "metadata": {
        "id": "C86hsmVHpTRy"
      },
      "execution_count": null,
      "outputs": []
    },
    {
      "cell_type": "code",
      "source": [
        "#multiply and add and sibtract o move scale"
      ],
      "metadata": {
        "id": "44MwiaAopiqk"
      },
      "execution_count": null,
      "outputs": []
    },
    {
      "cell_type": "code",
      "source": [
        "mu = 100  # mean of distribution\n",
        "sigma = 15  # standard deviation of distribution\n",
        "x = mu + sigma * np.random.randn(10000)"
      ],
      "metadata": {
        "id": "WEZbUEQjp4wP"
      },
      "execution_count": null,
      "outputs": []
    },
    {
      "cell_type": "code",
      "source": [
        "n,bins,patches = plt.hist(x)"
      ],
      "metadata": {
        "colab": {
          "base_uri": "https://localhost:8080/",
          "height": 265
        },
        "id": "4ePb80fFBvGK",
        "outputId": "fe637422-9fd5-4dc1-c9f5-9f6c73d6aaf1"
      },
      "execution_count": null,
      "outputs": [
        {
          "output_type": "display_data",
          "data": {
            "text/plain": [
              "<Figure size 432x288 with 1 Axes>"
            ],
            "image/png": "[encoded data removed]"
          },
          "metadata": {
            "needs_background": "light"
          }
        }
      ]
    },
    {
      "cell_type": "code",
      "source": [
        "bins"
      ],
      "metadata": {
        "colab": {
          "base_uri": "https://localhost:8080/"
        },
        "id": "e65kj687Cmki",
        "outputId": "defa301c-1901-4607-b5bf-5e523ed40acc"
      },
      "execution_count": null,
      "outputs": [
        {
          "output_type": "execute_result",
          "data": {
            "text/plain": [
              "array([ 34.45715514,  46.74100203,  59.02484892,  71.30869581,\n",
              "        83.59254271,  95.8763896 , 108.16023649, 120.44408338,\n",
              "       132.72793027, 145.01177716, 157.29562405])"
            ]
          },
          "metadata": {},
          "execution_count": 180
        }
      ]
    },
    {
      "cell_type": "code",
      "source": [
        "y = ((1 / (np.sqrt(2 * np.pi) * sigma)) * np.exp(-0.5 * (1 / sigma * (bins - mu))**2))\n",
        "plt.plot(y)"
      ],
      "metadata": {
        "colab": {
          "base_uri": "https://localhost:8080/",
          "height": 282
        },
        "id": "pSvHkNxKBtV0",
        "outputId": "47bf4ea6-4558-4b3c-a318-9e37205ec881"
      },
      "execution_count": null,
      "outputs": [
        {
          "output_type": "execute_result",
          "data": {
            "text/plain": [
              "[<matplotlib.lines.Line2D at 0x7f61549995d0>]"
            ]
          },
          "metadata": {},
          "execution_count": 181
        },
        {
          "output_type": "display_data",
          "data": {
            "text/plain": [
              "<Figure size 432x288 with 1 Axes>"
            ],
            "image/png": "[encoded data removed]"
          },
          "metadata": {
            "needs_background": "light"
          }
        }
      ]
    },
    {
      "cell_type": "code",
      "source": [
        "num_bins = 50\n",
        "n,bins,patches = plt.hist(x, num_bins, density=1)\n",
        "y = ((1 / (np.sqrt(2 * np.pi) * sigma)) * np.exp(-0.5 * (1 / sigma * (bins - mu))**2))\n",
        "plt.plot(bins,y)"
      ],
      "metadata": {
        "colab": {
          "base_uri": "https://localhost:8080/",
          "height": 282
        },
        "id": "7aAvYtf6CqQ8",
        "outputId": "00a7c709-32ee-4216-fcfd-c21bbc0160f5"
      },
      "execution_count": null,
      "outputs": [
        {
          "output_type": "execute_result",
          "data": {
            "text/plain": [
              "[<matplotlib.lines.Line2D at 0x7f61549f16d0>]"
            ]
          },
          "metadata": {},
          "execution_count": 182
        },
        {
          "output_type": "display_data",
          "data": {
            "text/plain": [
              "<Figure size 432x288 with 1 Axes>"
            ],
            "image/png": "[encoded data removed]"
          },
          "metadata": {
            "needs_background": "light"
          }
        }
      ]
    },
    {
      "cell_type": "code",
      "source": [
        "#orange line as theory, blue line is experimental data"
      ],
      "metadata": {
        "id": "YF6QrrWEDSWz"
      },
      "execution_count": null,
      "outputs": []
    },
    {
      "cell_type": "code",
      "source": [],
      "metadata": {
        "id": "5wpz-PiBDSfl"
      },
      "execution_count": null,
      "outputs": []
    },
    {
      "cell_type": "code",
      "source": [
        "def mean(x):\n",
        "    return np.sum(x)/x.shape[0]"
      ],
      "metadata": {
        "id": "8YGwI2mN4Osx"
      },
      "execution_count": null,
      "outputs": []
    },
    {
      "cell_type": "code",
      "source": [
        "def var(x):\n",
        "    return mean((x - mean(x))**2)"
      ],
      "metadata": {
        "id": "fKKUt5Qh4O2j"
      },
      "execution_count": null,
      "outputs": []
    },
    {
      "cell_type": "code",
      "source": [
        "def std(x):\n",
        "    return np.sqrt(var(x))"
      ],
      "metadata": {
        "id": "XIVE-C_m5AfO"
      },
      "execution_count": null,
      "outputs": []
    },
    {
      "cell_type": "code",
      "source": [
        "mean(x)"
      ],
      "metadata": {
        "id": "CD1D_Um34O0j",
        "colab": {
          "base_uri": "https://localhost:8080/"
        },
        "outputId": "6285d72b-1409-43d7-858e-c2cedd39b865"
      },
      "execution_count": null,
      "outputs": [
        {
          "output_type": "execute_result",
          "data": {
            "text/plain": [
              "99.78475345251351"
            ]
          },
          "metadata": {},
          "execution_count": 90
        }
      ]
    },
    {
      "cell_type": "code",
      "source": [
        "std(x)"
      ],
      "metadata": {
        "id": "rSa3GCve44RA",
        "colab": {
          "base_uri": "https://localhost:8080/"
        },
        "outputId": "5e638cc7-4832-43fd-c2f2-b740148de49e"
      },
      "execution_count": null,
      "outputs": [
        {
          "output_type": "execute_result",
          "data": {
            "text/plain": [
              "14.967403929980673"
            ]
          },
          "metadata": {},
          "execution_count": 91
        }
      ]
    },
    {
      "cell_type": "code",
      "source": [],
      "metadata": {
        "id": "71JWahMOJ_vW"
      },
      "execution_count": null,
      "outputs": []
    },
    {
      "cell_type": "markdown",
      "source": [
        "# Normal Random Number Generator"
      ],
      "metadata": {
        "id": "CwVhNQGvExWz"
      }
    },
    {
      "cell_type": "code",
      "metadata": {
        "id": "FQQe5WEEbw_0"
      },
      "source": [
        "#CDF PDF"
      ],
      "execution_count": null,
      "outputs": []
    },
    {
      "cell_type": "code",
      "source": [
        "x = np.linspace(-10,10,100)\n",
        "y = np.exp(-x**2)\n",
        "plt.plot(x,y)"
      ],
      "metadata": {
        "colab": {
          "base_uri": "https://localhost:8080/",
          "height": 282
        },
        "id": "NDBZchjHq1eU",
        "outputId": "09e5be3c-355b-4d4b-89e0-574826a0361e"
      },
      "execution_count": null,
      "outputs": [
        {
          "output_type": "execute_result",
          "data": {
            "text/plain": [
              "[<matplotlib.lines.Line2D at 0x7f61546e7dd0>]"
            ]
          },
          "metadata": {},
          "execution_count": 184
        },
        {
          "output_type": "display_data",
          "data": {
            "text/plain": [
              "<Figure size 432x288 with 1 Axes>"
            ],
            "image/png": "[encoded data removed]"
          },
          "metadata": {
            "needs_background": "light"
          }
        }
      ]
    },
    {
      "cell_type": "markdown",
      "metadata": {
        "id": "yJ59vSNn1LEU"
      },
      "source": [
        "![alt text](https://wikimedia.org/api/rest_v1/media/math/render/svg/4abaca87a10ecfa77b5a205056523706fe6c9c3f)"
      ]
    },
    {
      "cell_type": "code",
      "metadata": {
        "id": "iyMyj1cd1LEV"
      },
      "source": [
        "def normal_pdf(x,mu,sigma):\n",
        "  \n",
        "  return (1/(np.sqrt(2*np.pi*sigma**2)))*np.exp((-(x-mu)**2)/(2*sigma**2))"
      ],
      "execution_count": null,
      "outputs": []
    },
    {
      "cell_type": "code",
      "metadata": {
        "id": "CzBfKnfL1LEX"
      },
      "source": [
        "x = np.linspace(-6,6,1000)"
      ],
      "execution_count": null,
      "outputs": []
    },
    {
      "cell_type": "code",
      "metadata": {
        "id": "s407zu5G1LEY"
      },
      "source": [
        "mu = 0"
      ],
      "execution_count": null,
      "outputs": []
    },
    {
      "cell_type": "code",
      "metadata": {
        "id": "VJunvHrJ1LEb"
      },
      "source": [
        "sigma = 1"
      ],
      "execution_count": null,
      "outputs": []
    },
    {
      "cell_type": "code",
      "metadata": {
        "id": "xGi4RlmT1LEe"
      },
      "source": [
        "pdf = normal_pdf(x,mu,sigma) #Use Normal for demo, replace with custom function pdf"
      ],
      "execution_count": null,
      "outputs": []
    },
    {
      "cell_type": "code",
      "metadata": {
        "outputId": "1dacf6cf-51b8-436d-ced3-5b7f6fbddfb0",
        "id": "N674Q86J1LEh",
        "colab": {
          "base_uri": "https://localhost:8080/",
          "height": 282
        }
      },
      "source": [
        "plt.plot(x,pdf,'.')"
      ],
      "execution_count": null,
      "outputs": [
        {
          "output_type": "execute_result",
          "data": {
            "text/plain": [
              "[<matplotlib.lines.Line2D at 0x7f619b690450>]"
            ]
          },
          "metadata": {},
          "execution_count": 98
        },
        {
          "output_type": "display_data",
          "data": {
            "text/plain": [
              "<Figure size 432x288 with 1 Axes>"
            ],
            "image/png": "[encoded data removed]"
          },
          "metadata": {
            "needs_background": "light"
          }
        }
      ]
    },
    {
      "cell_type": "code",
      "source": [
        "#gave us output for y which is the height side"
      ],
      "metadata": {
        "id": "nlKiTHTHrNEB"
      },
      "execution_count": null,
      "outputs": []
    },
    {
      "cell_type": "code",
      "source": [],
      "metadata": {
        "id": "WvTcM8_0rTjC"
      },
      "execution_count": null,
      "outputs": []
    },
    {
      "cell_type": "code",
      "metadata": {
        "id": "yDZg1FK41wtf"
      },
      "source": [
        "def partial_sums(x):\n",
        "\n",
        "  y = np.zeros(x.shape)\n",
        "  \n",
        "  for n in range(x.shape[0]):\n",
        "    \n",
        "    y[n] = np.sum(x[0:n])\n",
        "    \n",
        "  y = y / np.max(y)\n",
        "    \n",
        "  return y"
      ],
      "execution_count": null,
      "outputs": []
    },
    {
      "cell_type": "code",
      "metadata": {
        "id": "merifRSe3vT1"
      },
      "source": [
        "cdf = partial_sums(pdf)"
      ],
      "execution_count": null,
      "outputs": []
    },
    {
      "cell_type": "code",
      "metadata": {
        "id": "TIR6Tm2NYSlH",
        "outputId": "7fe1388b-f3cd-4a6f-ed88-0c9eac563211",
        "colab": {
          "base_uri": "https://localhost:8080/",
          "height": 265
        }
      },
      "source": [
        "plt.plot(x,cdf,'.');"
      ],
      "execution_count": null,
      "outputs": [
        {
          "output_type": "display_data",
          "data": {
            "text/plain": [
              "<Figure size 432x288 with 1 Axes>"
            ],
            "image/png": "[encoded data removed]"
          },
          "metadata": {
            "needs_background": "light"
          }
        }
      ]
    },
    {
      "cell_type": "code",
      "metadata": {
        "id": "dxKQae6QEbQF",
        "outputId": "65defa83-009e-4a0f-ac15-c22ca4a24b4d",
        "colab": {
          "base_uri": "https://localhost:8080/",
          "height": 268
        }
      },
      "source": [
        "d_cdf = cdf[1:] - cdf[0:-1] #Demo to show that the diff of the cdf gives you back the pdf\n",
        "plt.plot(x[1:],d_cdf,'.');  #Not required for sampling "
      ],
      "execution_count": null,
      "outputs": [
        {
          "output_type": "display_data",
          "data": {
            "text/plain": [
              "<Figure size 432x288 with 1 Axes>"
            ],
            "image/png": "[encoded data removed]"
          },
          "metadata": {
            "needs_background": "light"
          }
        }
      ]
    },
    {
      "cell_type": "code",
      "metadata": {
        "id": "sikTuIG3c_y7",
        "outputId": "8927975d-fa20-4fa7-9292-f9be3fa8936b",
        "colab": {
          "base_uri": "https://localhost:8080/",
          "height": 265
        }
      },
      "source": [
        "plt.plot(cdf,x,'.');"
      ],
      "execution_count": null,
      "outputs": [
        {
          "output_type": "display_data",
          "data": {
            "text/plain": [
              "<Figure size 432x288 with 1 Axes>"
            ],
            "image/png": "[encoded data removed]"
          },
          "metadata": {
            "needs_background": "light"
          }
        }
      ]
    },
    {
      "cell_type": "code",
      "metadata": {
        "id": "HsmcFWw26gZk"
      },
      "source": [
        "def find_nearest(array, value):\n",
        "\n",
        "  idx = np.argmin(np.abs(array - value))\n",
        "  \n",
        "  return idx"
      ],
      "execution_count": null,
      "outputs": []
    },
    {
      "cell_type": "code",
      "metadata": {
        "id": "u-_tbmzBcrby",
        "outputId": "7c04efe7-455f-40ce-e3d2-f53d8933c718",
        "colab": {
          "base_uri": "https://localhost:8080/"
        }
      },
      "source": [
        "find_nearest(cdf, 0.1)"
      ],
      "execution_count": null,
      "outputs": [
        {
          "output_type": "execute_result",
          "data": {
            "text/plain": [
              "393"
            ]
          },
          "metadata": {},
          "execution_count": 105
        }
      ]
    },
    {
      "cell_type": "code",
      "metadata": {
        "id": "Zf6KSUgmEt26",
        "outputId": "eaf7dd7b-4a74-4908-be26-8f186b53826b",
        "colab": {
          "base_uri": "https://localhost:8080/"
        }
      },
      "source": [
        "x[393]"
      ],
      "execution_count": null,
      "outputs": [
        {
          "output_type": "execute_result",
          "data": {
            "text/plain": [
              "-1.2792792792792795"
            ]
          },
          "metadata": {},
          "execution_count": 106
        }
      ]
    },
    {
      "cell_type": "code",
      "metadata": {
        "id": "M0O7iLuj5Qu5"
      },
      "source": [
        "xr = np.random.random((10000,))"
      ],
      "execution_count": null,
      "outputs": []
    },
    {
      "cell_type": "code",
      "metadata": {
        "id": "AxX76gZp6gVV"
      },
      "source": [
        "w = np.zeros(xr.shape[0])\n",
        "\n",
        "for i in range(xr.shape[0]):\n",
        "  \n",
        "  w[i] = x[find_nearest(cdf, xr[i])]"
      ],
      "execution_count": null,
      "outputs": []
    },
    {
      "cell_type": "code",
      "metadata": {
        "id": "0dBd_HybERUD",
        "outputId": "4c4e0151-990f-4e18-e28f-e1886a8cfec5",
        "colab": {
          "base_uri": "https://localhost:8080/"
        }
      },
      "source": [
        "w.shape"
      ],
      "execution_count": null,
      "outputs": [
        {
          "output_type": "execute_result",
          "data": {
            "text/plain": [
              "(10000,)"
            ]
          },
          "metadata": {},
          "execution_count": 109
        }
      ]
    },
    {
      "cell_type": "code",
      "metadata": {
        "id": "t4YdgMnK8j6D",
        "outputId": "3759948e-a27f-46a7-ae8a-cf9254f743e0",
        "colab": {
          "base_uri": "https://localhost:8080/",
          "height": 265
        }
      },
      "source": [
        "plt.hist(w,50);"
      ],
      "execution_count": null,
      "outputs": [
        {
          "output_type": "display_data",
          "data": {
            "text/plain": [
              "<Figure size 432x288 with 1 Axes>"
            ],
            "image/png": "[encoded data removed]"
          },
          "metadata": {
            "needs_background": "light"
          }
        }
      ]
    },
    {
      "cell_type": "code",
      "source": [
        "num_bins = 50\n",
        "n,bins,patches = plt.hist(w, num_bins, density=1)\n",
        "y = ((1 / (np.sqrt(2 * np.pi) * sigma)) * np.exp(-0.5 * (1 / sigma * (bins - mu))**2))\n",
        "plt.plot(bins,y)"
      ],
      "metadata": {
        "colab": {
          "base_uri": "https://localhost:8080/",
          "height": 282
        },
        "id": "T2tZnucPEtG4",
        "outputId": "f9e81031-a1fd-41fc-844a-5d798df73dd3"
      },
      "execution_count": null,
      "outputs": [
        {
          "output_type": "execute_result",
          "data": {
            "text/plain": [
              "[<matplotlib.lines.Line2D at 0x7f619b69fa10>]"
            ]
          },
          "metadata": {},
          "execution_count": 111
        },
        {
          "output_type": "display_data",
          "data": {
            "text/plain": [
              "<Figure size 432x288 with 1 Axes>"
            ],
            "image/png": "[encoded data removed]"
          },
          "metadata": {
            "needs_background": "light"
          }
        }
      ]
    },
    {
      "cell_type": "markdown",
      "source": [
        "# Random Color"
      ],
      "metadata": {
        "id": "bJfwk8tnVV2E"
      }
    },
    {
      "cell_type": "code",
      "source": [
        "import numpy as np\n",
        "import matplotlib.pyplot as plt"
      ],
      "metadata": {
        "id": "wTzwJf55_yiu"
      },
      "execution_count": null,
      "outputs": []
    },
    {
      "cell_type": "code",
      "source": [
        "z = np.random.randint(0,255,size=(10,10,3))"
      ],
      "metadata": {
        "id": "C9B8aPO1RsN5"
      },
      "execution_count": null,
      "outputs": []
    },
    {
      "cell_type": "code",
      "source": [],
      "metadata": {
        "id": "itQm6A2hrv70"
      },
      "execution_count": null,
      "outputs": []
    },
    {
      "cell_type": "code",
      "source": [
        "plt.imshow(z)"
      ],
      "metadata": {
        "colab": {
          "base_uri": "https://localhost:8080/",
          "height": 282
        },
        "id": "j9Ta2_kzRsQm",
        "outputId": "51053ccc-64f3-4165-8490-57ec79cb3661"
      },
      "execution_count": null,
      "outputs": [
        {
          "output_type": "execute_result",
          "data": {
            "text/plain": [
              "<matplotlib.image.AxesImage at 0x7f61b1b85a50>"
            ]
          },
          "metadata": {},
          "execution_count": 114
        },
        {
          "output_type": "display_data",
          "data": {
            "text/plain": [
              "<Figure size 432x288 with 1 Axes>"
            ],
            "image/png": "[encoded data removed]"
          },
          "metadata": {
            "needs_background": "light"
          }
        }
      ]
    },
    {
      "cell_type": "code",
      "source": [
        "z = np.zeros((10,10,3))"
      ],
      "metadata": {
        "id": "ARBtvXpyUMrE"
      },
      "execution_count": null,
      "outputs": []
    },
    {
      "cell_type": "code",
      "source": [
        "#random color from random number"
      ],
      "metadata": {
        "id": "8d7mmmj2r6GO"
      },
      "execution_count": null,
      "outputs": []
    },
    {
      "cell_type": "code",
      "source": [
        "plt.imshow(z)"
      ],
      "metadata": {
        "colab": {
          "base_uri": "https://localhost:8080/",
          "height": 282
        },
        "outputId": "deef549b-8293-41f3-e018-979f2b254931",
        "id": "yTL66sqlUMrF"
      },
      "execution_count": null,
      "outputs": [
        {
          "output_type": "execute_result",
          "data": {
            "text/plain": [
              "<matplotlib.image.AxesImage at 0x7f61542c8b90>"
            ]
          },
          "metadata": {},
          "execution_count": 192
        },
        {
          "output_type": "display_data",
          "data": {
            "text/plain": [
              "<Figure size 432x288 with 1 Axes>"
            ],
            "image/png": "[encoded data removed]"
          },
          "metadata": {
            "needs_background": "light"
          }
        }
      ]
    },
    {
      "cell_type": "code",
      "source": [
        "z = 0*np.ones((10,10,3))"
      ],
      "metadata": {
        "id": "1kGigXZlURDK"
      },
      "execution_count": null,
      "outputs": []
    },
    {
      "cell_type": "code",
      "source": [
        "plt.imshow(z)"
      ],
      "metadata": {
        "colab": {
          "base_uri": "https://localhost:8080/",
          "height": 282
        },
        "outputId": "2d894314-05e0-4787-f581-cb9f49ff5cfd",
        "id": "2n_nqptPURDK"
      },
      "execution_count": null,
      "outputs": [
        {
          "output_type": "execute_result",
          "data": {
            "text/plain": [
              "<matplotlib.image.AxesImage at 0x7f619b2d4390>"
            ]
          },
          "metadata": {},
          "execution_count": 118
        },
        {
          "output_type": "display_data",
          "data": {
            "text/plain": [
              "<Figure size 432x288 with 1 Axes>"
            ],
            "image/png": "[encoded data removed]"
          },
          "metadata": {
            "needs_background": "light"
          }
        }
      ]
    },
    {
      "cell_type": "code",
      "source": [
        "z = 255*np.ones((10,10,3))"
      ],
      "metadata": {
        "id": "5wFWbdFpT_dS"
      },
      "execution_count": null,
      "outputs": []
    },
    {
      "cell_type": "code",
      "source": [
        "plt.imshow(z)"
      ],
      "metadata": {
        "colab": {
          "base_uri": "https://localhost:8080/",
          "height": 299
        },
        "outputId": "b604af15-592b-41de-f4c0-7ac4d5b1043c",
        "id": "aEaFv5zzT_dZ"
      },
      "execution_count": null,
      "outputs": [
        {
          "output_type": "stream",
          "name": "stderr",
          "text": [
            "WARNING:matplotlib.image:Clipping input data to the valid range for imshow with RGB data ([0..1] for floats or [0..255] for integers).\n"
          ]
        },
        {
          "output_type": "execute_result",
          "data": {
            "text/plain": [
              "<matplotlib.image.AxesImage at 0x7f619b8cff50>"
            ]
          },
          "metadata": {},
          "execution_count": 120
        },
        {
          "output_type": "display_data",
          "data": {
            "text/plain": [
              "<Figure size 432x288 with 1 Axes>"
            ],
            "image/png": "[encoded data removed]"
          },
          "metadata": {
            "needs_background": "light"
          }
        }
      ]
    },
    {
      "cell_type": "code",
      "source": [
        "#washed out image"
      ],
      "metadata": {
        "id": "6Lfsz0zZsDMK"
      },
      "execution_count": null,
      "outputs": []
    },
    {
      "cell_type": "code",
      "source": [],
      "metadata": {
        "id": "ikmb5o2bRsWP"
      },
      "execution_count": null,
      "outputs": []
    },
    {
      "cell_type": "code",
      "source": [
        "z = np.ones((10,10,3))\n",
        "\n",
        "z[:,:,0] = 1  #this makes it so red is only turned on\n",
        "z[:,:,1] = 0\n",
        "z[:,:,2] = 0\n",
        "\n",
        "plt.imshow(z)"
      ],
      "metadata": {
        "colab": {
          "base_uri": "https://localhost:8080/",
          "height": 282
        },
        "id": "RJYE-239RsYa",
        "outputId": "e41c51eb-19a8-41d8-c0be-b2e0203cfa02"
      },
      "execution_count": null,
      "outputs": [
        {
          "output_type": "execute_result",
          "data": {
            "text/plain": [
              "<matplotlib.image.AxesImage at 0x7f619c0d9610>"
            ]
          },
          "metadata": {},
          "execution_count": 121
        },
        {
          "output_type": "display_data",
          "data": {
            "text/plain": [
              "<Figure size 432x288 with 1 Axes>"
            ],
            "image/png": "[encoded data removed]"
          },
          "metadata": {
            "needs_background": "light"
          }
        }
      ]
    },
    {
      "cell_type": "code",
      "source": [
        "#"
      ],
      "metadata": {
        "id": "kMDoP6_mRscz"
      },
      "execution_count": null,
      "outputs": []
    },
    {
      "cell_type": "code",
      "source": [
        "z = np.ones((10,10,3))\n",
        "\n",
        "z[:,:,0] = 0\n",
        "z[:,:,1] = 1  #makes it only green\n",
        "z[:,:,2] = 0\n",
        "\n",
        "plt.imshow(z)"
      ],
      "metadata": {
        "colab": {
          "base_uri": "https://localhost:8080/",
          "height": 282
        },
        "id": "qhSydm4DRsfH",
        "outputId": "ec8800d9-0699-4ac6-a39b-20160bf29564"
      },
      "execution_count": null,
      "outputs": [
        {
          "output_type": "execute_result",
          "data": {
            "text/plain": [
              "<matplotlib.image.AxesImage at 0x7f619b2550d0>"
            ]
          },
          "metadata": {},
          "execution_count": 122
        },
        {
          "output_type": "display_data",
          "data": {
            "text/plain": [
              "<Figure size 432x288 with 1 Axes>"
            ],
            "image/png": "[encoded data removed]"
          },
          "metadata": {
            "needs_background": "light"
          }
        }
      ]
    },
    {
      "cell_type": "code",
      "source": [],
      "metadata": {
        "id": "JdCyc8z2RshC"
      },
      "execution_count": null,
      "outputs": []
    },
    {
      "cell_type": "code",
      "source": [
        "z = np.ones((10,10,3))\n",
        "\n",
        "z[:,:,0] = 0\n",
        "z[:,:,1] = 0\n",
        "z[:,:,2] = 1  #makes it only blue\n",
        "\n",
        "plt.imshow(z)"
      ],
      "metadata": {
        "colab": {
          "base_uri": "https://localhost:8080/",
          "height": 282
        },
        "id": "S4Qe-_esRsjT",
        "outputId": "834427a1-ce4a-40cb-d4f0-67498d296047"
      },
      "execution_count": null,
      "outputs": [
        {
          "output_type": "execute_result",
          "data": {
            "text/plain": [
              "<matplotlib.image.AxesImage at 0x7f619a98ead0>"
            ]
          },
          "metadata": {},
          "execution_count": 123
        },
        {
          "output_type": "display_data",
          "data": {
            "text/plain": [
              "<Figure size 432x288 with 1 Axes>"
            ],
            "image/png": "[encoded data removed]"
          },
          "metadata": {
            "needs_background": "light"
          }
        }
      ]
    },
    {
      "cell_type": "code",
      "source": [],
      "metadata": {
        "id": "349O1XtjRsli"
      },
      "execution_count": null,
      "outputs": []
    },
    {
      "cell_type": "code",
      "source": [],
      "metadata": {
        "id": "wXZ3fWSdBN1A"
      },
      "execution_count": null,
      "outputs": []
    },
    {
      "cell_type": "code",
      "source": [
        "z = np.ones((10,10,3))\n",
        "\n",
        "r = np.random.rand()\n",
        "g = np.random.rand()\n",
        "b = np.random.rand()\n",
        "\n",
        "print(r,g,b)\n",
        "\n",
        "z[:,:,0] = r\n",
        "z[:,:,1] = g\n",
        "z[:,:,2] = b\n",
        "\n",
        "plt.imshow(z);  #gives random color"
      ],
      "metadata": {
        "colab": {
          "base_uri": "https://localhost:8080/",
          "height": 282
        },
        "id": "Yp7kwqqgRsny",
        "outputId": "01640fc5-f7eb-4458-917a-62d7f6ac3d13"
      },
      "execution_count": null,
      "outputs": [
        {
          "output_type": "stream",
          "name": "stdout",
          "text": [
            "0.556357028364075 0.5492404310040531 0.5771410113247364\n"
          ]
        },
        {
          "output_type": "display_data",
          "data": {
            "text/plain": [
              "<Figure size 432x288 with 1 Axes>"
            ],
            "image/png": "[encoded data removed]"
          },
          "metadata": {
            "needs_background": "light"
          }
        }
      ]
    },
    {
      "cell_type": "code",
      "source": [],
      "metadata": {
        "id": "kDJI-KkkVloT"
      },
      "execution_count": null,
      "outputs": []
    },
    {
      "cell_type": "code",
      "source": [
        "for i in range(10):\n",
        "\n",
        "    z = np.ones((10,10,3))\n",
        "\n",
        "    r = np.random.rand()\n",
        "    g = np.random.rand()\n",
        "    b = np.random.rand()\n",
        "\n",
        "    print(r,g,b)\n",
        "\n",
        "    z[:,:,0] = r\n",
        "    z[:,:,1] = g\n",
        "    z[:,:,2] = b\n",
        "\n",
        "    plt.imshow(z);\n",
        "    plt.show() #gives 10 random colors"
      ],
      "metadata": {
        "id": "mcnFf8iWVmFq",
        "colab": {
          "base_uri": "https://localhost:8080/",
          "height": 1000
        },
        "outputId": "23b7018a-05d6-43e0-8aa1-90b063cb3277"
      },
      "execution_count": null,
      "outputs": [
        {
          "output_type": "stream",
          "name": "stdout",
          "text": [
            "0.7902637191258408 0.611013033483336 0.696639458993439\n"
          ]
        },
        {
          "output_type": "display_data",
          "data": {
            "text/plain": [
              "<Figure size 432x288 with 1 Axes>"
            ],
            "image/png": "[encoded data removed]"
          },
          "metadata": {
            "needs_background": "light"
          }
        },
        {
          "output_type": "stream",
          "name": "stdout",
          "text": [
            "0.9287060079220285 0.4914588594643585 0.1615608811884428\n"
          ]
        },
        {
          "output_type": "display_data",
          "data": {
            "text/plain": [
              "<Figure size 432x288 with 1 Axes>"
            ],
            "image/png": "[encoded data removed]"
          },
          "metadata": {
            "needs_background": "light"
          }
        },
        {
          "output_type": "stream",
          "name": "stdout",
          "text": [
            "0.860234495566317 0.2651867480342922 0.7388862379004548\n"
          ]
        },
        {
          "output_type": "display_data",
          "data": {
            "text/plain": [
              "<Figure size 432x288 with 1 Axes>"
            ],
            "image/png": "[encoded data removed]"
          },
          "metadata": {
            "needs_background": "light"
          }
        },
        {
          "output_type": "stream",
          "name": "stdout",
          "text": [
            "0.863161305746542 0.3560573253466658 0.7508585743644892\n"
          ]
        },
        {
          "output_type": "display_data",
          "data": {
            "text/plain": [
              "<Figure size 432x288 with 1 Axes>"
            ],
            "image/png": "[encoded data removed]"
          },
          "metadata": {
            "needs_background": "light"
          }
        },
        {
          "output_type": "stream",
          "name": "stdout",
          "text": [
            "0.6105221843291729 0.5087456550508723 0.4694482017445022\n"
          ]
        },
        {
          "output_type": "display_data",
          "data": {
            "text/plain": [
              "<Figure size 432x288 with 1 Axes>"
            ],
            "image/png": "[encoded data removed]"
          },
          "metadata": {
            "needs_background": "light"
          }
        },
        {
          "output_type": "stream",
          "name": "stdout",
          "text": [
            "0.966458099845086 0.4231740576712467 0.7826288342489441\n"
          ]
        },
        {
          "output_type": "display_data",
          "data": {
            "text/plain": [
              "<Figure size 432x288 with 1 Axes>"
            ],
            "image/png": "[encoded data removed]"
          },
          "metadata": {
            "needs_background": "light"
          }
        },
        {
          "output_type": "stream",
          "name": "stdout",
          "text": [
            "0.5876065770848226 0.8904817359170024 0.8416735154775337\n"
          ]
        },
        {
          "output_type": "display_data",
          "data": {
            "text/plain": [
              "<Figure size 432x288 with 1 Axes>"
            ],
            "image/png": "[encoded data removed]"
          },
          "metadata": {
            "needs_background": "light"
          }
        },
        {
          "output_type": "stream",
          "name": "stdout",
          "text": [
            "0.8889662270676737 0.014630671905944803 0.8949464371466842\n"
          ]
        },
        {
          "output_type": "display_data",
          "data": {
            "text/plain": [
              "<Figure size 432x288 with 1 Axes>"
            ],
            "image/png": "[encoded data removed]"
          },
          "metadata": {
            "needs_background": "light"
          }
        },
        {
          "output_type": "stream",
          "name": "stdout",
          "text": [
            "0.08327357811680014 0.14253912825497095 0.0013425735072228884\n"
          ]
        },
        {
          "output_type": "display_data",
          "data": {
            "text/plain": [
              "<Figure size 432x288 with 1 Axes>"
            ],
            "image/png": "[encoded data removed]"
          },
          "metadata": {
            "needs_background": "light"
          }
        },
        {
          "output_type": "stream",
          "name": "stdout",
          "text": [
            "0.7502168482269519 0.2754647484556699 0.5524287047134215\n"
          ]
        },
        {
          "output_type": "display_data",
          "data": {
            "text/plain": [
              "<Figure size 432x288 with 1 Axes>"
            ],
            "image/png": "[encoded data removed]"
          },
          "metadata": {
            "needs_background": "light"
          }
        }
      ]
    },
    {
      "cell_type": "code",
      "source": [],
      "metadata": {
        "id": "6Ek2JjDXaWd_"
      },
      "execution_count": null,
      "outputs": []
    },
    {
      "cell_type": "code",
      "source": [
        "z1 = np.ones((10,10,3))\n",
        "z1[:,:,0] = np.random.rand()\n",
        "z1[:,:,1] = np.random.rand()\n",
        "z1[:,:,2] = np.random.rand()\n",
        "\n",
        "z2 = np.ones((10,10,3))\n",
        "z2[:,:,0] = np.random.rand()\n",
        "z2[:,:,1] = np.random.rand()\n",
        "z2[:,:,2] = np.random.rand()\n",
        "\n",
        "z3 = np.hstack((z1,z2))\n",
        "\n",
        "plt.imshow(z3);\n",
        "plt.show()  #two random colors together"
      ],
      "metadata": {
        "colab": {
          "base_uri": "https://localhost:8080/",
          "height": 215
        },
        "id": "mX-00vpRaWgy",
        "outputId": "2a21aef7-40d1-4893-e7fc-2148e42385ca"
      },
      "execution_count": null,
      "outputs": [
        {
          "output_type": "display_data",
          "data": {
            "text/plain": [
              "<Figure size 432x288 with 1 Axes>"
            ],
            "image/png": "[encoded data removed]"
          },
          "metadata": {
            "needs_background": "light"
          }
        }
      ]
    },
    {
      "cell_type": "code",
      "source": [],
      "metadata": {
        "id": "OHNAZsIPU2O5"
      },
      "execution_count": null,
      "outputs": []
    },
    {
      "cell_type": "code",
      "source": [],
      "metadata": {
        "id": "z3JqvgXCay1a"
      },
      "execution_count": null,
      "outputs": []
    },
    {
      "cell_type": "code",
      "source": [
        "for i in range(10):\n",
        "    \n",
        "    z1 = np.ones((10,10,3))\n",
        "    z1[:,:,0] = np.random.rand()\n",
        "    z1[:,:,1] = np.random.rand()\n",
        "    z1[:,:,2] = np.random.rand()\n",
        "\n",
        "    z2 = np.ones((10,10,3))\n",
        "    z2[:,:,0] = np.random.rand()\n",
        "    z2[:,:,1] = np.random.rand()\n",
        "    z2[:,:,2] = np.random.rand()\n",
        "\n",
        "    z3 = np.hstack((z1,z2))\n",
        "\n",
        "    plt.imshow(z3);\n",
        "    plt.show()"
      ],
      "metadata": {
        "colab": {
          "base_uri": "https://localhost:8080/",
          "height": 1000
        },
        "id": "UOXsNSkoay3y",
        "outputId": "59c0b7cf-612c-4831-e129-1895b094dea9"
      },
      "execution_count": null,
      "outputs": [
        {
          "output_type": "display_data",
          "data": {
            "text/plain": [
              "<Figure size 432x288 with 1 Axes>"
            ],
            "image/png": "[encoded data removed]"
          },
          "metadata": {
            "needs_background": "light"
          }
        },
        {
          "output_type": "display_data",
          "data": {
            "text/plain": [
              "<Figure size 432x288 with 1 Axes>"
            ],
            "image/png": "[encoded data removed]"
          },
          "metadata": {
            "needs_background": "light"
          }
        },
        {
          "output_type": "display_data",
          "data": {
            "text/plain": [
              "<Figure size 432x288 with 1 Axes>"
            ],
            "image/png": "[encoded data removed]"
          },
          "metadata": {
            "needs_background": "light"
          }
        },
        {
          "output_type": "display_data",
          "data": {
            "text/plain": [
              "<Figure size 432x288 with 1 Axes>"
            ],
            "image/png": "[encoded data removed]"
          },
          "metadata": {
            "needs_background": "light"
          }
        },
        {
          "output_type": "display_data",
          "data": {
            "text/plain": [
              "<Figure size 432x288 with 1 Axes>"
            ],
            "image/png": "[encoded data removed]"
          },
          "metadata": {
            "needs_background": "light"
          }
        },
        {
          "output_type": "display_data",
          "data": {
            "text/plain": [
              "<Figure size 432x288 with 1 Axes>"
            ],
            "image/png": "[encoded data removed]"
          },
          "metadata": {
            "needs_background": "light"
          }
        },
        {
          "output_type": "display_data",
          "data": {
            "text/plain": [
              "<Figure size 432x288 with 1 Axes>"
            ],
            "image/png": "[encoded data removed]"
          },
          "metadata": {
            "needs_background": "light"
          }
        },
        {
          "output_type": "display_data",
          "data": {
            "text/plain": [
              "<Figure size 432x288 with 1 Axes>"
            ],
            "image/png": "[encoded data removed]"
          },
          "metadata": {
            "needs_background": "light"
          }
        },
        {
          "output_type": "display_data",
          "data": {
            "text/plain": [
              "<Figure size 432x288 with 1 Axes>"
            ],
            "image/png": "[encoded data removed]"
          },
          "metadata": {
            "needs_background": "light"
          }
        },
        {
          "output_type": "display_data",
          "data": {
            "text/plain": [
              "<Figure size 432x288 with 1 Axes>"
            ],
            "image/png": "[encoded data removed]"
          },
          "metadata": {
            "needs_background": "light"
          }
        }
      ]
    },
    {
      "cell_type": "code",
      "source": [],
      "metadata": {
        "id": "eJ2Ea9HBbM_X"
      },
      "execution_count": null,
      "outputs": []
    },
    {
      "cell_type": "code",
      "source": [
        "for i in range(10):\n",
        "    \n",
        "    z1 = np.ones((10,10,3))\n",
        "    z2 = np.ones((10,10,3))\n",
        "\n",
        "    r = np.random.rand()\n",
        "    g = np.random.rand()\n",
        "    b = np.random.rand()\n",
        "\n",
        "    z1[:,:,0] = r\n",
        "    z1[:,:,1] = g\n",
        "    z1[:,:,2] = b\n",
        "    \n",
        "    z2[:,:,0] = 1-r\n",
        "    z2[:,:,1] = 1-g\n",
        "    z2[:,:,2] = 1-b\n",
        "\n",
        "    z3 = np.hstack((z1,z2))\n",
        "\n",
        "    plt.imshow(z3);\n",
        "    plt.show()  #complemntary color by 1-"
      ],
      "metadata": {
        "colab": {
          "base_uri": "https://localhost:8080/",
          "height": 1000
        },
        "id": "1Y0s21HPbNBg",
        "outputId": "317a6c4d-81be-4b33-cfff-2b34a08f3cfc"
      },
      "execution_count": null,
      "outputs": [
        {
          "output_type": "display_data",
          "data": {
            "text/plain": [
              "<Figure size 432x288 with 1 Axes>"
            ],
            "image/png": "[encoded data removed]"
          },
          "metadata": {
            "needs_background": "light"
          }
        },
        {
          "output_type": "display_data",
          "data": {
            "text/plain": [
              "<Figure size 432x288 with 1 Axes>"
            ],
            "image/png": "[encoded data removed]"
          },
          "metadata": {
            "needs_background": "light"
          }
        },
        {
          "output_type": "display_data",
          "data": {
            "text/plain": [
              "<Figure size 432x288 with 1 Axes>"
            ],
            "image/png": "[encoded data removed]"
          },
          "metadata": {
            "needs_background": "light"
          }
        },
        {
          "output_type": "display_data",
          "data": {
            "text/plain": [
              "<Figure size 432x288 with 1 Axes>"
            ],
            "image/png": "[encoded data removed]"
          },
          "metadata": {
            "needs_background": "light"
          }
        },
        {
          "output_type": "display_data",
          "data": {
            "text/plain": [
              "<Figure size 432x288 with 1 Axes>"
            ],
            "image/png": "[encoded data removed]"
          },
          "metadata": {
            "needs_background": "light"
          }
        },
        {
          "output_type": "display_data",
          "data": {
            "text/plain": [
              "<Figure size 432x288 with 1 Axes>"
            ],
            "image/png": "[encoded data removed]"
          },
          "metadata": {
            "needs_background": "light"
          }
        },
        {
          "output_type": "display_data",
          "data": {
            "text/plain": [
              "<Figure size 432x288 with 1 Axes>"
            ],
            "image/png": "[encoded data removed]"
          },
          "metadata": {
            "needs_background": "light"
          }
        },
        {
          "output_type": "display_data",
          "data": {
            "text/plain": [
              "<Figure size 432x288 with 1 Axes>"
            ],
            "image/png": "[encoded data removed]"
          },
          "metadata": {
            "needs_background": "light"
          }
        },
        {
          "output_type": "display_data",
          "data": {
            "text/plain": [
              "<Figure size 432x288 with 1 Axes>"
            ],
            "image/png": "[encoded data removed]"
          },
          "metadata": {
            "needs_background": "light"
          }
        },
        {
          "output_type": "display_data",
          "data": {
            "text/plain": [
              "<Figure size 432x288 with 1 Axes>"
            ],
            "image/png": "[encoded data removed]"
          },
          "metadata": {
            "needs_background": "light"
          }
        }
      ]
    },
    {
      "cell_type": "code",
      "source": [],
      "metadata": {
        "id": "Ey4zcHqhU2Q-"
      },
      "execution_count": null,
      "outputs": []
    },
    {
      "cell_type": "markdown",
      "source": [
        "https://lospec.com/palette-list"
      ],
      "metadata": {
        "id": "ShxAALmgM1uv"
      }
    },
    {
      "cell_type": "code",
      "source": [
        "import numpy as np\n",
        "import matplotlib.pyplot as plt\n",
        "import matplotlib.colors as mcolors\n",
        "import matplotlib\n",
        "import imageio\n",
        "from PIL import Image\n",
        "\n",
        "def get_colors_lospec(url):\n",
        "    im = imageio.imread(url)\n",
        "    rgb_list = (im/255)[0,:,0:3]\n",
        "    float_list = list(np.linspace(0,1,len(rgb_list)))    \n",
        "    cdict = dict()\n",
        "    for num, col in enumerate(['red', 'green', 'blue']):\n",
        "        col_list = [[float_list[i], rgb_list[i][num], rgb_list[i][num]] for i in range(len(float_list))]\n",
        "        cdict[col] = col_list\n",
        "    cmp = mcolors.LinearSegmentedColormap('my_cmp', segmentdata=cdict, N=256)\n",
        "    return cmp"
      ],
      "metadata": {
        "id": "CRKnDKcrWGA0"
      },
      "execution_count": null,
      "outputs": []
    },
    {
      "cell_type": "code",
      "source": [
        "url = 'https://lospec.com/palette-list/agb-32x.png'"
      ],
      "metadata": {
        "id": "d4zuPhl7S0hM"
      },
      "execution_count": null,
      "outputs": []
    },
    {
      "cell_type": "code",
      "source": [
        "url = 'https://lospec.com/palette-list/agb-1x.png'"
      ],
      "metadata": {
        "id": "N6slVKqSXSSd"
      },
      "execution_count": null,
      "outputs": []
    },
    {
      "cell_type": "code",
      "source": [
        "url = 'https://lospec.com/palette-list/moondrom-1x.png'"
      ],
      "metadata": {
        "id": "E9x4ENWMRtIZ"
      },
      "execution_count": null,
      "outputs": []
    },
    {
      "cell_type": "code",
      "metadata": {
        "id": "V9zLLsIaRtIa"
      },
      "source": [
        "im = imageio.imread(url)"
      ],
      "execution_count": null,
      "outputs": []
    },
    {
      "cell_type": "code",
      "metadata": {
        "colab": {
          "base_uri": "https://localhost:8080/",
          "height": 94
        },
        "outputId": "79c4e0bf-79dc-4dbc-e927-602d9756b243",
        "id": "2d5fG_wNRtIa"
      },
      "source": [
        "plt.imshow(im);"
      ],
      "execution_count": null,
      "outputs": [
        {
          "output_type": "display_data",
          "data": {
            "text/plain": [
              "<Figure size 432x288 with 1 Axes>"
            ],
            "image/png": "[encoded data removed]"
          },
          "metadata": {
            "needs_background": "light"
          }
        }
      ]
    },
    {
      "cell_type": "code",
      "source": [
        "z = np.random.randint(0,255,size=(10,10))"
      ],
      "metadata": {
        "id": "eLq5CnVtTD3d"
      },
      "execution_count": null,
      "outputs": []
    },
    {
      "cell_type": "code",
      "source": [
        "plt.imshow(z, cmap=get_colors_lospec(url))\n",
        "plt.colorbar();"
      ],
      "metadata": {
        "colab": {
          "base_uri": "https://localhost:8080/",
          "height": 267
        },
        "outputId": "4b79b54f-2ec8-4878-bbee-548ce55df30f",
        "id": "OZ34VY76RtIa"
      },
      "execution_count": null,
      "outputs": [
        {
          "output_type": "display_data",
          "data": {
            "text/plain": [
              "<Figure size 432x288 with 2 Axes>"
            ],
            "image/png": "[encoded data removed]"
          },
          "metadata": {
            "needs_background": "light"
          }
        }
      ]
    },
    {
      "cell_type": "code",
      "source": [
        "x, y = np.mgrid[-5:5:0.05, -5:5:0.05]\n",
        "z = np.sqrt(x**2 + y**2)\n",
        "\n",
        "plt.imshow(z, cmap=get_colors_lospec(url));\n",
        "plt.show()  #mgrid allows print in 2d"
      ],
      "metadata": {
        "id": "uaZ4Le1FRsIr",
        "colab": {
          "base_uri": "https://localhost:8080/",
          "height": 269
        },
        "outputId": "6a6518a9-e03d-4ce1-b4f8-9e12ba417442"
      },
      "execution_count": null,
      "outputs": [
        {
          "output_type": "display_data",
          "data": {
            "text/plain": [
              "<Figure size 432x288 with 1 Axes>"
            ],
            "image/png": "[encoded data removed]"
          },
          "metadata": {
            "needs_background": "light"
          }
        }
      ]
    },
    {
      "cell_type": "code",
      "source": [],
      "metadata": {
        "id": "_fsEXgBcA3RH"
      },
      "execution_count": null,
      "outputs": []
    },
    {
      "cell_type": "code",
      "source": [
        "x, y = np.mgrid[-5:5:0.05, -5:5:0.05]\n",
        "z = np.sin(3*y)\n",
        "\n",
        "plt.imshow(z, cmap=get_colors_lospec(url));\n",
        "plt.show()"
      ],
      "metadata": {
        "id": "70-fD1hyegyl",
        "colab": {
          "base_uri": "https://localhost:8080/",
          "height": 269
        },
        "outputId": "c3847d0b-2889-43fc-ed4a-0f229c4a12a7"
      },
      "execution_count": null,
      "outputs": [
        {
          "output_type": "display_data",
          "data": {
            "text/plain": [
              "<Figure size 432x288 with 1 Axes>"
            ],
            "image/png": "[encoded data removed]"
          },
          "metadata": {
            "needs_background": "light"
          }
        }
      ]
    },
    {
      "cell_type": "code",
      "source": [
        "x, y = np.mgrid[-5:5:0.05, -5:5:0.05]\n",
        "z = np.sin(3*y)*np.sin(3*x)\n",
        "\n",
        "plt.imshow(z, cmap=get_colors_lospec(url));\n",
        "plt.show()"
      ],
      "metadata": {
        "colab": {
          "base_uri": "https://localhost:8080/",
          "height": 269
        },
        "id": "DMRAq0NUAyk2",
        "outputId": "64c1198b-f022-4ac5-9a7d-ca28d8d66b3e"
      },
      "execution_count": null,
      "outputs": [
        {
          "output_type": "display_data",
          "data": {
            "text/plain": [
              "<Figure size 432x288 with 1 Axes>"
            ],
            "image/png": "[encoded data removed]"
          },
          "metadata": {
            "needs_background": "light"
          }
        }
      ]
    },
    {
      "cell_type": "code",
      "source": [],
      "metadata": {
        "id": "NCgWMg1vA6iv"
      },
      "execution_count": null,
      "outputs": []
    }
  ]
}