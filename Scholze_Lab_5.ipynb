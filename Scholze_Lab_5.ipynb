{
  "nbformat": 4,
  "nbformat_minor": 0,
  "metadata": {
    "colab": {
      "provenance": [],
      "authorship_tag": "ABX9TyPuOUveVJXVykbZwU0uCN/G",
      "include_colab_link": true
    },
    "kernelspec": {
      "name": "python3",
      "display_name": "Python 3"
    },
    "language_info": {
      "name": "python"
    }
  },
  "cells": [
    {
      "cell_type": "markdown",
      "metadata": {
        "id": "view-in-github",
        "colab_type": "text"
      },
      "source": [
        "<a href=\"https://colab.research.google.com/github/amandascholze/Data_Sci/blob/main/Scholze_Lab_5.ipynb\" target=\"_parent\"><img src=\"https://colab.research.google.com/assets/colab-badge.svg\" alt=\"Open In Colab\"/></a>"
      ]
    },
    {
      "cell_type": "code",
      "execution_count": null,
      "metadata": {
        "id": "1V6MD1xFsUmc"
      },
      "outputs": [],
      "source": []
    },
    {
      "cell_type": "markdown",
      "source": [
        "#Edit Form:\n",
        "\n",
        "https://docs.google.com/forms/d/1kKsf2-I2Ou88IGvu-KIWhqB_Uo5vjP-IUdzvu41zBMA/edit"
      ],
      "metadata": {
        "id": "0eVNLqiCurNy"
      }
    },
    {
      "cell_type": "markdown",
      "source": [
        "# Submit Form\n",
        "https://docs.google.com/forms/d/e/1FAIpQLScaLFt0ZEOTNEnD4qxEdKHN5dMk3ZGSaW6cPwKUaAPjxgI8kg/viewform?usp=sf_link"
      ],
      "metadata": {
        "id": "7GMjB4wsnlVK"
      }
    },
    {
      "cell_type": "markdown",
      "source": [
        "# Spreadsheet version of Form"
      ],
      "metadata": {
        "id": "1HuAP2L-nuCa"
      }
    },
    {
      "cell_type": "markdown",
      "source": [
        "https://docs.google.com/spreadsheets/d/1XJhAqJmvsQZ_7MiH7OMNV3Sqljy2clhZnOd6ry5JvRI/edit?usp=sharing"
      ],
      "metadata": {
        "id": "iW6EAZ7eppRh"
      }
    },
    {
      "cell_type": "markdown",
      "source": [
        "# Color Names\n",
        "https://matplotlib.org/stable/gallery/color/named_colors.html"
      ],
      "metadata": {
        "id": "W2pUtGA8yxgO"
      }
    },
    {
      "cell_type": "code",
      "execution_count": null,
      "metadata": {
        "id": "q-tGyKkht2Au"
      },
      "outputs": [],
      "source": [
        "import pandas as pd\n",
        "import numpy as np\n",
        "import matplotlib.pyplot as plt\n",
        "def get_database(url):\n",
        "    url_head = \"https://docs.google.com/spreadsheets/d/\"\n",
        "    url_foot = \"/gviz/tq?tqx=out:csv&sheet=\"\n",
        "    url_body = url.split('/')[5]\n",
        "    sheet_name = \"1\"\n",
        "    url_csv = url_head + url_body + url_foot + sheet_name\n",
        "    df = pd.read_csv(url_csv, sep=',', skiprows=0)\n",
        "    return df"
      ]
    },
    {
      "cell_type": "code",
      "source": [
        "url = 'https://docs.google.com/spreadsheets/d/1XJhAqJmvsQZ_7MiH7OMNV3Sqljy2clhZnOd6ry5JvRI/edit?usp=sharing'"
      ],
      "metadata": {
        "id": "fc8aichguBRZ"
      },
      "execution_count": null,
      "outputs": []
    },
    {
      "cell_type": "code",
      "source": [
        "data = get_database(url)"
      ],
      "metadata": {
        "id": "sFe18hEYuC9H"
      },
      "execution_count": null,
      "outputs": []
    },
    {
      "cell_type": "code",
      "source": [
        "data #prints out the data "
      ],
      "metadata": {
        "colab": {
          "base_uri": "https://localhost:8080/",
          "height": 1000
        },
        "id": "P4vYCpPeuHpX",
        "outputId": "8f2de3c9-910d-4bc2-c6ff-48c8e1244ce1"
      },
      "execution_count": null,
      "outputs": [
        {
          "output_type": "execute_result",
          "data": {
            "text/plain": [
              "              Timestamp Favorite Color\n",
              "0    8/28/2022 23:44:49           Blue\n",
              "1    8/28/2022 23:47:16            Red\n",
              "2   10/10/2022 12:04:51            Red\n",
              "3   10/10/2022 12:04:56          Green\n",
              "4   10/10/2022 12:04:56          Green\n",
              "5   10/10/2022 12:04:59           Blue\n",
              "6   10/10/2022 12:05:05           Pink\n",
              "7   10/10/2022 12:05:09         Purple\n",
              "8   10/10/2022 12:05:23           Blue\n",
              "9   10/10/2022 12:05:24           Pink\n",
              "10  10/10/2022 12:05:26           Pink\n",
              "11  10/10/2022 12:05:29           Blue\n",
              "12  10/10/2022 12:05:30           Blue\n",
              "13  10/10/2022 12:05:35           Blue\n",
              "14  10/10/2022 12:05:39            Red\n",
              "15  10/10/2022 12:05:40            Red\n",
              "16  10/10/2022 12:05:40           Blue\n",
              "17  10/10/2022 12:05:48         Purple\n",
              "18  10/10/2022 12:05:48          Green\n",
              "19  10/10/2022 12:06:04          Green\n",
              "20  10/10/2022 12:06:08           Blue\n",
              "21  10/10/2022 12:06:10           Pink\n",
              "22  10/10/2022 12:06:15           Blue\n",
              "23  10/10/2022 12:06:18         Purple\n",
              "24  10/10/2022 12:06:19           Blue\n",
              "25  10/10/2022 12:06:34         Purple\n",
              "26  10/10/2022 12:06:35           Pink\n",
              "27  10/10/2022 12:07:03           Pink\n",
              "28  10/10/2022 12:07:03         Purple\n",
              "29  10/10/2022 12:07:21           Blue\n",
              "30  10/10/2022 12:07:24         Purple\n",
              "31  10/10/2022 12:07:32            Red\n",
              "32  10/10/2022 12:07:41          Green\n",
              "33  10/10/2022 12:08:22           Blue\n",
              "34  10/10/2022 12:08:24          Green\n",
              "35  10/10/2022 12:13:03           Blue\n",
              "36  10/10/2022 12:14:34            Red\n",
              "37  10/10/2022 12:15:17         Purple\n",
              "38  10/10/2022 12:15:19           Blue"
            ],
            "text/html": [
              "\n",
              "  <div id=\"df-bc092cfb-6f7d-4ffe-a543-913264b37430\">\n",
              "    <div class=\"colab-df-container\">\n",
              "      <div>\n",
              "<style scoped>\n",
              "    .dataframe tbody tr th:only-of-type {\n",
              "        vertical-align: middle;\n",
              "    }\n",
              "\n",
              "    .dataframe tbody tr th {\n",
              "        vertical-align: top;\n",
              "    }\n",
              "\n",
              "    .dataframe thead th {\n",
              "        text-align: right;\n",
              "    }\n",
              "</style>\n",
              "<table border=\"1\" class=\"dataframe\">\n",
              "  <thead>\n",
              "    <tr style=\"text-align: right;\">\n",
              "      <th></th>\n",
              "      <th>Timestamp</th>\n",
              "      <th>Favorite Color</th>\n",
              "    </tr>\n",
              "  </thead>\n",
              "  <tbody>\n",
              "    <tr>\n",
              "      <th>0</th>\n",
              "      <td>8/28/2022 23:44:49</td>\n",
              "      <td>Blue</td>\n",
              "    </tr>\n",
              "    <tr>\n",
              "      <th>1</th>\n",
              "      <td>8/28/2022 23:47:16</td>\n",
              "      <td>Red</td>\n",
              "    </tr>\n",
              "    <tr>\n",
              "      <th>2</th>\n",
              "      <td>10/10/2022 12:04:51</td>\n",
              "      <td>Red</td>\n",
              "    </tr>\n",
              "    <tr>\n",
              "      <th>3</th>\n",
              "      <td>10/10/2022 12:04:56</td>\n",
              "      <td>Green</td>\n",
              "    </tr>\n",
              "    <tr>\n",
              "      <th>4</th>\n",
              "      <td>10/10/2022 12:04:56</td>\n",
              "      <td>Green</td>\n",
              "    </tr>\n",
              "    <tr>\n",
              "      <th>5</th>\n",
              "      <td>10/10/2022 12:04:59</td>\n",
              "      <td>Blue</td>\n",
              "    </tr>\n",
              "    <tr>\n",
              "      <th>6</th>\n",
              "      <td>10/10/2022 12:05:05</td>\n",
              "      <td>Pink</td>\n",
              "    </tr>\n",
              "    <tr>\n",
              "      <th>7</th>\n",
              "      <td>10/10/2022 12:05:09</td>\n",
              "      <td>Purple</td>\n",
              "    </tr>\n",
              "    <tr>\n",
              "      <th>8</th>\n",
              "      <td>10/10/2022 12:05:23</td>\n",
              "      <td>Blue</td>\n",
              "    </tr>\n",
              "    <tr>\n",
              "      <th>9</th>\n",
              "      <td>10/10/2022 12:05:24</td>\n",
              "      <td>Pink</td>\n",
              "    </tr>\n",
              "    <tr>\n",
              "      <th>10</th>\n",
              "      <td>10/10/2022 12:05:26</td>\n",
              "      <td>Pink</td>\n",
              "    </tr>\n",
              "    <tr>\n",
              "      <th>11</th>\n",
              "      <td>10/10/2022 12:05:29</td>\n",
              "      <td>Blue</td>\n",
              "    </tr>\n",
              "    <tr>\n",
              "      <th>12</th>\n",
              "      <td>10/10/2022 12:05:30</td>\n",
              "      <td>Blue</td>\n",
              "    </tr>\n",
              "    <tr>\n",
              "      <th>13</th>\n",
              "      <td>10/10/2022 12:05:35</td>\n",
              "      <td>Blue</td>\n",
              "    </tr>\n",
              "    <tr>\n",
              "      <th>14</th>\n",
              "      <td>10/10/2022 12:05:39</td>\n",
              "      <td>Red</td>\n",
              "    </tr>\n",
              "    <tr>\n",
              "      <th>15</th>\n",
              "      <td>10/10/2022 12:05:40</td>\n",
              "      <td>Red</td>\n",
              "    </tr>\n",
              "    <tr>\n",
              "      <th>16</th>\n",
              "      <td>10/10/2022 12:05:40</td>\n",
              "      <td>Blue</td>\n",
              "    </tr>\n",
              "    <tr>\n",
              "      <th>17</th>\n",
              "      <td>10/10/2022 12:05:48</td>\n",
              "      <td>Purple</td>\n",
              "    </tr>\n",
              "    <tr>\n",
              "      <th>18</th>\n",
              "      <td>10/10/2022 12:05:48</td>\n",
              "      <td>Green</td>\n",
              "    </tr>\n",
              "    <tr>\n",
              "      <th>19</th>\n",
              "      <td>10/10/2022 12:06:04</td>\n",
              "      <td>Green</td>\n",
              "    </tr>\n",
              "    <tr>\n",
              "      <th>20</th>\n",
              "      <td>10/10/2022 12:06:08</td>\n",
              "      <td>Blue</td>\n",
              "    </tr>\n",
              "    <tr>\n",
              "      <th>21</th>\n",
              "      <td>10/10/2022 12:06:10</td>\n",
              "      <td>Pink</td>\n",
              "    </tr>\n",
              "    <tr>\n",
              "      <th>22</th>\n",
              "      <td>10/10/2022 12:06:15</td>\n",
              "      <td>Blue</td>\n",
              "    </tr>\n",
              "    <tr>\n",
              "      <th>23</th>\n",
              "      <td>10/10/2022 12:06:18</td>\n",
              "      <td>Purple</td>\n",
              "    </tr>\n",
              "    <tr>\n",
              "      <th>24</th>\n",
              "      <td>10/10/2022 12:06:19</td>\n",
              "      <td>Blue</td>\n",
              "    </tr>\n",
              "    <tr>\n",
              "      <th>25</th>\n",
              "      <td>10/10/2022 12:06:34</td>\n",
              "      <td>Purple</td>\n",
              "    </tr>\n",
              "    <tr>\n",
              "      <th>26</th>\n",
              "      <td>10/10/2022 12:06:35</td>\n",
              "      <td>Pink</td>\n",
              "    </tr>\n",
              "    <tr>\n",
              "      <th>27</th>\n",
              "      <td>10/10/2022 12:07:03</td>\n",
              "      <td>Pink</td>\n",
              "    </tr>\n",
              "    <tr>\n",
              "      <th>28</th>\n",
              "      <td>10/10/2022 12:07:03</td>\n",
              "      <td>Purple</td>\n",
              "    </tr>\n",
              "    <tr>\n",
              "      <th>29</th>\n",
              "      <td>10/10/2022 12:07:21</td>\n",
              "      <td>Blue</td>\n",
              "    </tr>\n",
              "    <tr>\n",
              "      <th>30</th>\n",
              "      <td>10/10/2022 12:07:24</td>\n",
              "      <td>Purple</td>\n",
              "    </tr>\n",
              "    <tr>\n",
              "      <th>31</th>\n",
              "      <td>10/10/2022 12:07:32</td>\n",
              "      <td>Red</td>\n",
              "    </tr>\n",
              "    <tr>\n",
              "      <th>32</th>\n",
              "      <td>10/10/2022 12:07:41</td>\n",
              "      <td>Green</td>\n",
              "    </tr>\n",
              "    <tr>\n",
              "      <th>33</th>\n",
              "      <td>10/10/2022 12:08:22</td>\n",
              "      <td>Blue</td>\n",
              "    </tr>\n",
              "    <tr>\n",
              "      <th>34</th>\n",
              "      <td>10/10/2022 12:08:24</td>\n",
              "      <td>Green</td>\n",
              "    </tr>\n",
              "    <tr>\n",
              "      <th>35</th>\n",
              "      <td>10/10/2022 12:13:03</td>\n",
              "      <td>Blue</td>\n",
              "    </tr>\n",
              "    <tr>\n",
              "      <th>36</th>\n",
              "      <td>10/10/2022 12:14:34</td>\n",
              "      <td>Red</td>\n",
              "    </tr>\n",
              "    <tr>\n",
              "      <th>37</th>\n",
              "      <td>10/10/2022 12:15:17</td>\n",
              "      <td>Purple</td>\n",
              "    </tr>\n",
              "    <tr>\n",
              "      <th>38</th>\n",
              "      <td>10/10/2022 12:15:19</td>\n",
              "      <td>Blue</td>\n",
              "    </tr>\n",
              "  </tbody>\n",
              "</table>\n",
              "</div>\n",
              "      <button class=\"colab-df-convert\" onclick=\"convertToInteractive('df-bc092cfb-6f7d-4ffe-a543-913264b37430')\"\n",
              "              title=\"Convert this dataframe to an interactive table.\"\n",
              "              style=\"display:none;\">\n",
              "        \n",
              "  <svg xmlns=\"http://www.w3.org/2000/svg\" height=\"24px\"viewBox=\"0 0 24 24\"\n",
              "       width=\"24px\">\n",
              "    <path d=\"M0 0h24v24H0V0z\" fill=\"none\"/>\n",
              "    <path d=\"M18.56 5.44l.94 2.06.94-2.06 2.06-.94-2.06-.94-.94-2.06-.94 2.06-2.06.94zm-11 1L8.5 8.5l.94-2.06 2.06-.94-2.06-.94L8.5 2.5l-.94 2.06-2.06.94zm10 10l.94 2.06.94-2.06 2.06-.94-2.06-.94-.94-2.06-.94 2.06-2.06.94z\"/><path d=\"M17.41 7.96l-1.37-1.37c-.4-.4-.92-.59-1.43-.59-.52 0-1.04.2-1.43.59L10.3 9.45l-7.72 7.72c-.78.78-.78 2.05 0 2.83L4 21.41c.39.39.9.59 1.41.59.51 0 1.02-.2 1.41-.59l7.78-7.78 2.81-2.81c.8-.78.8-2.07 0-2.86zM5.41 20L4 18.59l7.72-7.72 1.47 1.35L5.41 20z\"/>\n",
              "  </svg>\n",
              "      </button>\n",
              "      \n",
              "  <style>\n",
              "    .colab-df-container {\n",
              "      display:flex;\n",
              "      flex-wrap:wrap;\n",
              "      gap: 12px;\n",
              "    }\n",
              "\n",
              "    .colab-df-convert {\n",
              "      background-color: #E8F0FE;\n",
              "      border: none;\n",
              "      border-radius: 50%;\n",
              "      cursor: pointer;\n",
              "      display: none;\n",
              "      fill: #1967D2;\n",
              "      height: 32px;\n",
              "      padding: 0 0 0 0;\n",
              "      width: 32px;\n",
              "    }\n",
              "\n",
              "    .colab-df-convert:hover {\n",
              "      background-color: #E2EBFA;\n",
              "      box-shadow: 0px 1px 2px rgba(60, 64, 67, 0.3), 0px 1px 3px 1px rgba(60, 64, 67, 0.15);\n",
              "      fill: #174EA6;\n",
              "    }\n",
              "\n",
              "    [theme=dark] .colab-df-convert {\n",
              "      background-color: #3B4455;\n",
              "      fill: #D2E3FC;\n",
              "    }\n",
              "\n",
              "    [theme=dark] .colab-df-convert:hover {\n",
              "      background-color: #434B5C;\n",
              "      box-shadow: 0px 1px 3px 1px rgba(0, 0, 0, 0.15);\n",
              "      filter: drop-shadow(0px 1px 2px rgba(0, 0, 0, 0.3));\n",
              "      fill: #FFFFFF;\n",
              "    }\n",
              "  </style>\n",
              "\n",
              "      <script>\n",
              "        const buttonEl =\n",
              "          document.querySelector('#df-bc092cfb-6f7d-4ffe-a543-913264b37430 button.colab-df-convert');\n",
              "        buttonEl.style.display =\n",
              "          google.colab.kernel.accessAllowed ? 'block' : 'none';\n",
              "\n",
              "        async function convertToInteractive(key) {\n",
              "          const element = document.querySelector('#df-bc092cfb-6f7d-4ffe-a543-913264b37430');\n",
              "          const dataTable =\n",
              "            await google.colab.kernel.invokeFunction('convertToInteractive',\n",
              "                                                     [key], {});\n",
              "          if (!dataTable) return;\n",
              "\n",
              "          const docLinkHtml = 'Like what you see? Visit the ' +\n",
              "            '<a target=\"_blank\" href=https://colab.research.google.com/notebooks/data_table.ipynb>data table notebook</a>'\n",
              "            + ' to learn more about interactive tables.';\n",
              "          element.innerHTML = '';\n",
              "          dataTable['output_type'] = 'display_data';\n",
              "          await google.colab.output.renderOutput(dataTable, element);\n",
              "          const docLink = document.createElement('div');\n",
              "          docLink.innerHTML = docLinkHtml;\n",
              "          element.appendChild(docLink);\n",
              "        }\n",
              "      </script>\n",
              "    </div>\n",
              "  </div>\n",
              "  "
            ]
          },
          "metadata": {},
          "execution_count": 4
        }
      ]
    },
    {
      "cell_type": "code",
      "source": [
        "data = np.array(data)"
      ],
      "metadata": {
        "id": "405OIu0auIDH"
      },
      "execution_count": null,
      "outputs": []
    },
    {
      "cell_type": "code",
      "source": [
        "data"
      ],
      "metadata": {
        "colab": {
          "base_uri": "https://localhost:8080/"
        },
        "id": "_KJVMisrvs-G",
        "outputId": "a047ab46-4778-4547-e744-f8d80712c129"
      },
      "execution_count": null,
      "outputs": [
        {
          "output_type": "execute_result",
          "data": {
            "text/plain": [
              "array([['8/28/2022 23:44:49', 'Blue'],\n",
              "       ['8/28/2022 23:47:16', 'Red'],\n",
              "       ['10/10/2022 12:04:51', 'Red'],\n",
              "       ['10/10/2022 12:04:56', 'Green'],\n",
              "       ['10/10/2022 12:04:56', 'Green'],\n",
              "       ['10/10/2022 12:04:59', 'Blue'],\n",
              "       ['10/10/2022 12:05:05', 'Pink'],\n",
              "       ['10/10/2022 12:05:09', 'Purple'],\n",
              "       ['10/10/2022 12:05:23', 'Blue'],\n",
              "       ['10/10/2022 12:05:24', 'Pink'],\n",
              "       ['10/10/2022 12:05:26', 'Pink'],\n",
              "       ['10/10/2022 12:05:29', 'Blue'],\n",
              "       ['10/10/2022 12:05:30', 'Blue'],\n",
              "       ['10/10/2022 12:05:35', 'Blue'],\n",
              "       ['10/10/2022 12:05:39', 'Red'],\n",
              "       ['10/10/2022 12:05:40', 'Red'],\n",
              "       ['10/10/2022 12:05:40', 'Blue'],\n",
              "       ['10/10/2022 12:05:48', 'Purple'],\n",
              "       ['10/10/2022 12:05:48', 'Green'],\n",
              "       ['10/10/2022 12:06:04', 'Green'],\n",
              "       ['10/10/2022 12:06:08', 'Blue'],\n",
              "       ['10/10/2022 12:06:10', 'Pink'],\n",
              "       ['10/10/2022 12:06:15', 'Blue'],\n",
              "       ['10/10/2022 12:06:18', 'Purple'],\n",
              "       ['10/10/2022 12:06:19', 'Blue'],\n",
              "       ['10/10/2022 12:06:34', 'Purple'],\n",
              "       ['10/10/2022 12:06:35', 'Pink'],\n",
              "       ['10/10/2022 12:07:03', 'Pink'],\n",
              "       ['10/10/2022 12:07:03', 'Purple'],\n",
              "       ['10/10/2022 12:07:21', 'Blue'],\n",
              "       ['10/10/2022 12:07:24', 'Purple'],\n",
              "       ['10/10/2022 12:07:32', 'Red'],\n",
              "       ['10/10/2022 12:07:41', 'Green'],\n",
              "       ['10/10/2022 12:08:22', 'Blue'],\n",
              "       ['10/10/2022 12:08:24', 'Green'],\n",
              "       ['10/10/2022 12:13:03', 'Blue'],\n",
              "       ['10/10/2022 12:14:34', 'Red'],\n",
              "       ['10/10/2022 12:15:17', 'Purple'],\n",
              "       ['10/10/2022 12:15:19', 'Blue']], dtype=object)"
            ]
          },
          "metadata": {},
          "execution_count": 6
        }
      ]
    },
    {
      "cell_type": "code",
      "source": [
        "data.shape"
      ],
      "metadata": {
        "colab": {
          "base_uri": "https://localhost:8080/"
        },
        "id": "s4r0gAtHqLb7",
        "outputId": "36403f56-42ab-4387-b337-6c9532e20706"
      },
      "execution_count": null,
      "outputs": [
        {
          "output_type": "execute_result",
          "data": {
            "text/plain": [
              "(39, 2)"
            ]
          },
          "metadata": {},
          "execution_count": 7
        }
      ]
    },
    {
      "cell_type": "code",
      "source": [
        "colors = data[:,1]"
      ],
      "metadata": {
        "id": "_81y4Z_pvwnC"
      },
      "execution_count": null,
      "outputs": []
    },
    {
      "cell_type": "code",
      "source": [
        "#just list of answers"
      ],
      "metadata": {
        "id": "bcd0Xr1FqTdc"
      },
      "execution_count": null,
      "outputs": []
    },
    {
      "cell_type": "code",
      "source": [
        "colors"
      ],
      "metadata": {
        "colab": {
          "base_uri": "https://localhost:8080/"
        },
        "id": "DdRvwfeUv1Wr",
        "outputId": "a24ebec4-5df9-4e50-c3a6-e534bacec701"
      },
      "execution_count": null,
      "outputs": [
        {
          "output_type": "execute_result",
          "data": {
            "text/plain": [
              "array(['Blue', 'Red', 'Red', 'Green', 'Green', 'Blue', 'Pink', 'Purple',\n",
              "       'Blue', 'Pink', 'Pink', 'Blue', 'Blue', 'Blue', 'Red', 'Red',\n",
              "       'Blue', 'Purple', 'Green', 'Green', 'Blue', 'Pink', 'Blue',\n",
              "       'Purple', 'Blue', 'Purple', 'Pink', 'Pink', 'Purple', 'Blue',\n",
              "       'Purple', 'Red', 'Green', 'Blue', 'Green', 'Blue', 'Red', 'Purple',\n",
              "       'Blue'], dtype=object)"
            ]
          },
          "metadata": {},
          "execution_count": 10
        }
      ]
    },
    {
      "cell_type": "code",
      "source": [
        "colors.shape"
      ],
      "metadata": {
        "colab": {
          "base_uri": "https://localhost:8080/"
        },
        "id": "_9Y4r-4FqWYf",
        "outputId": "ede389d7-cbdc-4fa1-807c-06feb7e42671"
      },
      "execution_count": null,
      "outputs": [
        {
          "output_type": "execute_result",
          "data": {
            "text/plain": [
              "(39,)"
            ]
          },
          "metadata": {},
          "execution_count": 11
        }
      ]
    },
    {
      "cell_type": "code",
      "source": [
        "red_count = np.sum(colors == 'Red')"
      ],
      "metadata": {
        "id": "POEt2j5cv2CM"
      },
      "execution_count": null,
      "outputs": []
    },
    {
      "cell_type": "code",
      "source": [
        "#double equal test if equal to red"
      ],
      "metadata": {
        "id": "4awUF3pNqdmM"
      },
      "execution_count": null,
      "outputs": []
    },
    {
      "cell_type": "code",
      "source": [
        "blue_count = np.sum(colors == 'Red')"
      ],
      "metadata": {
        "id": "JtcoqKGMv9LH"
      },
      "execution_count": null,
      "outputs": []
    },
    {
      "cell_type": "code",
      "source": [
        "green_count = np.sum(colors == 'Red')"
      ],
      "metadata": {
        "id": "cQszqKtprWcf"
      },
      "execution_count": null,
      "outputs": []
    },
    {
      "cell_type": "code",
      "source": [
        "names = ['Red', 'Blue','Green']\n",
        "values = [red_count, blue_count, green_count]\n",
        "\n",
        "plt.bar(names, values, color=['red', 'blue','green'])"
      ],
      "metadata": {
        "colab": {
          "base_uri": "https://localhost:8080/",
          "height": 282
        },
        "id": "-Z370D3OwLhL",
        "outputId": "265943c8-ab15-4f82-8990-10c6cec75114"
      },
      "execution_count": null,
      "outputs": [
        {
          "output_type": "execute_result",
          "data": {
            "text/plain": [
              "<BarContainer object of 3 artists>"
            ]
          },
          "metadata": {},
          "execution_count": 16
        },
        {
          "output_type": "display_data",
          "data": {
            "text/plain": [
              "<Figure size 432x288 with 1 Axes>"
            ],
            "image/png": "[encoded data removed]"
          },
          "metadata": {
            "needs_background": "light"
          }
        }
      ]
    },
    {
      "cell_type": "code",
      "source": [],
      "metadata": {
        "id": "NGo3bfFOwV3z"
      },
      "execution_count": null,
      "outputs": []
    },
    {
      "cell_type": "code",
      "source": [],
      "metadata": {
        "id": "m-4f2U80ywQs"
      },
      "execution_count": null,
      "outputs": []
    },
    {
      "cell_type": "markdown",
      "source": [
        "https://forms.gle/Pkq5dn39V63Jdu9q6\n",
        "\n",
        "\n"
      ],
      "metadata": {
        "id": "pGS734Qw_Lsy"
      }
    },
    {
      "cell_type": "code",
      "source": [
        "url = 'https://docs.google.com/spreadsheets/d/1yeypDMXaewxcEQNLePkp-mQoUalhMHiO9_qFMPo9y0g/edit?usp=sharing'"
      ],
      "metadata": {
        "id": "RhZG-d4-pLeF"
      },
      "execution_count": null,
      "outputs": []
    },
    {
      "cell_type": "code",
      "source": [
        "data = get_database(url)"
      ],
      "metadata": {
        "id": "n67aee0PpLeG"
      },
      "execution_count": null,
      "outputs": []
    },
    {
      "cell_type": "code",
      "source": [
        "data"
      ],
      "metadata": {
        "colab": {
          "base_uri": "https://localhost:8080/",
          "height": 1000
        },
        "outputId": "969fa2de-0065-452f-8a47-615e54caa5f0",
        "id": "oCidiQiMpLeH"
      },
      "execution_count": null,
      "outputs": [
        {
          "output_type": "execute_result",
          "data": {
            "text/plain": [
              "             Timestamp  What is your major? \n",
              "0    10/9/2022 22:14:01     Computer Science\n",
              "1    10/9/2022 22:14:06              English\n",
              "2    10/9/2022 22:14:10           Accounting\n",
              "3   10/10/2022 12:09:54     Exercise Science\n",
              "4   10/10/2022 12:12:23       Health Science\n",
              "5   10/10/2022 12:12:24              Finance\n",
              "6   10/10/2022 12:12:26     Criminal Justice\n",
              "7   10/10/2022 12:12:26             Business\n",
              "8   10/10/2022 12:12:28           Accounting\n",
              "9   10/10/2022 12:12:28       Health Science\n",
              "10  10/10/2022 12:12:29              Geology\n",
              "11  10/10/2022 12:12:29             Business\n",
              "12  10/10/2022 12:12:31           Don't know\n",
              "13  10/10/2022 12:12:31     Criminal Justice\n",
              "14  10/10/2022 12:12:33           Accounting\n",
              "15  10/10/2022 12:12:34     Criminal Justice\n",
              "16  10/10/2022 12:12:34             Business\n",
              "17  10/10/2022 12:12:34              Finance\n",
              "18  10/10/2022 12:12:34     Exercise Science\n",
              "19  10/10/2022 12:12:35       Health Science\n",
              "20  10/10/2022 12:12:37           Accounting\n",
              "21  10/10/2022 12:12:38     Computer Science\n",
              "22  10/10/2022 12:12:39           Accounting\n",
              "23  10/10/2022 12:12:39            Marketing\n",
              "24  10/10/2022 12:12:41             Business\n",
              "25  10/10/2022 12:12:43       Health Science\n",
              "26  10/10/2022 12:12:44           Accounting\n",
              "27  10/10/2022 12:12:47     Computer Science\n",
              "28  10/10/2022 12:12:50             Business\n",
              "29  10/10/2022 12:12:51              Finance\n",
              "30  10/10/2022 12:12:55             Business\n",
              "31  10/10/2022 12:13:16     Criminal Justice\n",
              "32  10/10/2022 12:13:18           Accounting\n",
              "33  10/10/2022 12:13:20            Marketing\n",
              "34  10/10/2022 12:13:20             Business\n",
              "35  10/10/2022 12:13:29                 Math\n",
              "36  10/10/2022 12:13:35              English\n",
              "37  10/10/2022 12:13:44             Business\n",
              "38  10/10/2022 12:13:45       Health Science\n",
              "39  10/10/2022 12:13:46             Business\n",
              "40  10/10/2022 12:13:50              Finance\n",
              "41  10/10/2022 12:14:01       Health Science\n",
              "42  10/10/2022 12:14:04            Marketing"
            ],
            "text/html": [
              "\n",
              "  <div id=\"df-40f989cb-cb5f-43cb-ba92-6c5b2d7f78f0\">\n",
              "    <div class=\"colab-df-container\">\n",
              "      <div>\n",
              "<style scoped>\n",
              "    .dataframe tbody tr th:only-of-type {\n",
              "        vertical-align: middle;\n",
              "    }\n",
              "\n",
              "    .dataframe tbody tr th {\n",
              "        vertical-align: top;\n",
              "    }\n",
              "\n",
              "    .dataframe thead th {\n",
              "        text-align: right;\n",
              "    }\n",
              "</style>\n",
              "<table border=\"1\" class=\"dataframe\">\n",
              "  <thead>\n",
              "    <tr style=\"text-align: right;\">\n",
              "      <th></th>\n",
              "      <th>Timestamp</th>\n",
              "      <th>What is your major?</th>\n",
              "    </tr>\n",
              "  </thead>\n",
              "  <tbody>\n",
              "    <tr>\n",
              "      <th>0</th>\n",
              "      <td>10/9/2022 22:14:01</td>\n",
              "      <td>Computer Science</td>\n",
              "    </tr>\n",
              "    <tr>\n",
              "      <th>1</th>\n",
              "      <td>10/9/2022 22:14:06</td>\n",
              "      <td>English</td>\n",
              "    </tr>\n",
              "    <tr>\n",
              "      <th>2</th>\n",
              "      <td>10/9/2022 22:14:10</td>\n",
              "      <td>Accounting</td>\n",
              "    </tr>\n",
              "    <tr>\n",
              "      <th>3</th>\n",
              "      <td>10/10/2022 12:09:54</td>\n",
              "      <td>Exercise Science</td>\n",
              "    </tr>\n",
              "    <tr>\n",
              "      <th>4</th>\n",
              "      <td>10/10/2022 12:12:23</td>\n",
              "      <td>Health Science</td>\n",
              "    </tr>\n",
              "    <tr>\n",
              "      <th>5</th>\n",
              "      <td>10/10/2022 12:12:24</td>\n",
              "      <td>Finance</td>\n",
              "    </tr>\n",
              "    <tr>\n",
              "      <th>6</th>\n",
              "      <td>10/10/2022 12:12:26</td>\n",
              "      <td>Criminal Justice</td>\n",
              "    </tr>\n",
              "    <tr>\n",
              "      <th>7</th>\n",
              "      <td>10/10/2022 12:12:26</td>\n",
              "      <td>Business</td>\n",
              "    </tr>\n",
              "    <tr>\n",
              "      <th>8</th>\n",
              "      <td>10/10/2022 12:12:28</td>\n",
              "      <td>Accounting</td>\n",
              "    </tr>\n",
              "    <tr>\n",
              "      <th>9</th>\n",
              "      <td>10/10/2022 12:12:28</td>\n",
              "      <td>Health Science</td>\n",
              "    </tr>\n",
              "    <tr>\n",
              "      <th>10</th>\n",
              "      <td>10/10/2022 12:12:29</td>\n",
              "      <td>Geology</td>\n",
              "    </tr>\n",
              "    <tr>\n",
              "      <th>11</th>\n",
              "      <td>10/10/2022 12:12:29</td>\n",
              "      <td>Business</td>\n",
              "    </tr>\n",
              "    <tr>\n",
              "      <th>12</th>\n",
              "      <td>10/10/2022 12:12:31</td>\n",
              "      <td>Don't know</td>\n",
              "    </tr>\n",
              "    <tr>\n",
              "      <th>13</th>\n",
              "      <td>10/10/2022 12:12:31</td>\n",
              "      <td>Criminal Justice</td>\n",
              "    </tr>\n",
              "    <tr>\n",
              "      <th>14</th>\n",
              "      <td>10/10/2022 12:12:33</td>\n",
              "      <td>Accounting</td>\n",
              "    </tr>\n",
              "    <tr>\n",
              "      <th>15</th>\n",
              "      <td>10/10/2022 12:12:34</td>\n",
              "      <td>Criminal Justice</td>\n",
              "    </tr>\n",
              "    <tr>\n",
              "      <th>16</th>\n",
              "      <td>10/10/2022 12:12:34</td>\n",
              "      <td>Business</td>\n",
              "    </tr>\n",
              "    <tr>\n",
              "      <th>17</th>\n",
              "      <td>10/10/2022 12:12:34</td>\n",
              "      <td>Finance</td>\n",
              "    </tr>\n",
              "    <tr>\n",
              "      <th>18</th>\n",
              "      <td>10/10/2022 12:12:34</td>\n",
              "      <td>Exercise Science</td>\n",
              "    </tr>\n",
              "    <tr>\n",
              "      <th>19</th>\n",
              "      <td>10/10/2022 12:12:35</td>\n",
              "      <td>Health Science</td>\n",
              "    </tr>\n",
              "    <tr>\n",
              "      <th>20</th>\n",
              "      <td>10/10/2022 12:12:37</td>\n",
              "      <td>Accounting</td>\n",
              "    </tr>\n",
              "    <tr>\n",
              "      <th>21</th>\n",
              "      <td>10/10/2022 12:12:38</td>\n",
              "      <td>Computer Science</td>\n",
              "    </tr>\n",
              "    <tr>\n",
              "      <th>22</th>\n",
              "      <td>10/10/2022 12:12:39</td>\n",
              "      <td>Accounting</td>\n",
              "    </tr>\n",
              "    <tr>\n",
              "      <th>23</th>\n",
              "      <td>10/10/2022 12:12:39</td>\n",
              "      <td>Marketing</td>\n",
              "    </tr>\n",
              "    <tr>\n",
              "      <th>24</th>\n",
              "      <td>10/10/2022 12:12:41</td>\n",
              "      <td>Business</td>\n",
              "    </tr>\n",
              "    <tr>\n",
              "      <th>25</th>\n",
              "      <td>10/10/2022 12:12:43</td>\n",
              "      <td>Health Science</td>\n",
              "    </tr>\n",
              "    <tr>\n",
              "      <th>26</th>\n",
              "      <td>10/10/2022 12:12:44</td>\n",
              "      <td>Accounting</td>\n",
              "    </tr>\n",
              "    <tr>\n",
              "      <th>27</th>\n",
              "      <td>10/10/2022 12:12:47</td>\n",
              "      <td>Computer Science</td>\n",
              "    </tr>\n",
              "    <tr>\n",
              "      <th>28</th>\n",
              "      <td>10/10/2022 12:12:50</td>\n",
              "      <td>Business</td>\n",
              "    </tr>\n",
              "    <tr>\n",
              "      <th>29</th>\n",
              "      <td>10/10/2022 12:12:51</td>\n",
              "      <td>Finance</td>\n",
              "    </tr>\n",
              "    <tr>\n",
              "      <th>30</th>\n",
              "      <td>10/10/2022 12:12:55</td>\n",
              "      <td>Business</td>\n",
              "    </tr>\n",
              "    <tr>\n",
              "      <th>31</th>\n",
              "      <td>10/10/2022 12:13:16</td>\n",
              "      <td>Criminal Justice</td>\n",
              "    </tr>\n",
              "    <tr>\n",
              "      <th>32</th>\n",
              "      <td>10/10/2022 12:13:18</td>\n",
              "      <td>Accounting</td>\n",
              "    </tr>\n",
              "    <tr>\n",
              "      <th>33</th>\n",
              "      <td>10/10/2022 12:13:20</td>\n",
              "      <td>Marketing</td>\n",
              "    </tr>\n",
              "    <tr>\n",
              "      <th>34</th>\n",
              "      <td>10/10/2022 12:13:20</td>\n",
              "      <td>Business</td>\n",
              "    </tr>\n",
              "    <tr>\n",
              "      <th>35</th>\n",
              "      <td>10/10/2022 12:13:29</td>\n",
              "      <td>Math</td>\n",
              "    </tr>\n",
              "    <tr>\n",
              "      <th>36</th>\n",
              "      <td>10/10/2022 12:13:35</td>\n",
              "      <td>English</td>\n",
              "    </tr>\n",
              "    <tr>\n",
              "      <th>37</th>\n",
              "      <td>10/10/2022 12:13:44</td>\n",
              "      <td>Business</td>\n",
              "    </tr>\n",
              "    <tr>\n",
              "      <th>38</th>\n",
              "      <td>10/10/2022 12:13:45</td>\n",
              "      <td>Health Science</td>\n",
              "    </tr>\n",
              "    <tr>\n",
              "      <th>39</th>\n",
              "      <td>10/10/2022 12:13:46</td>\n",
              "      <td>Business</td>\n",
              "    </tr>\n",
              "    <tr>\n",
              "      <th>40</th>\n",
              "      <td>10/10/2022 12:13:50</td>\n",
              "      <td>Finance</td>\n",
              "    </tr>\n",
              "    <tr>\n",
              "      <th>41</th>\n",
              "      <td>10/10/2022 12:14:01</td>\n",
              "      <td>Health Science</td>\n",
              "    </tr>\n",
              "    <tr>\n",
              "      <th>42</th>\n",
              "      <td>10/10/2022 12:14:04</td>\n",
              "      <td>Marketing</td>\n",
              "    </tr>\n",
              "  </tbody>\n",
              "</table>\n",
              "</div>\n",
              "      <button class=\"colab-df-convert\" onclick=\"convertToInteractive('df-40f989cb-cb5f-43cb-ba92-6c5b2d7f78f0')\"\n",
              "              title=\"Convert this dataframe to an interactive table.\"\n",
              "              style=\"display:none;\">\n",
              "        \n",
              "  <svg xmlns=\"http://www.w3.org/2000/svg\" height=\"24px\"viewBox=\"0 0 24 24\"\n",
              "       width=\"24px\">\n",
              "    <path d=\"M0 0h24v24H0V0z\" fill=\"none\"/>\n",
              "    <path d=\"M18.56 5.44l.94 2.06.94-2.06 2.06-.94-2.06-.94-.94-2.06-.94 2.06-2.06.94zm-11 1L8.5 8.5l.94-2.06 2.06-.94-2.06-.94L8.5 2.5l-.94 2.06-2.06.94zm10 10l.94 2.06.94-2.06 2.06-.94-2.06-.94-.94-2.06-.94 2.06-2.06.94z\"/><path d=\"M17.41 7.96l-1.37-1.37c-.4-.4-.92-.59-1.43-.59-.52 0-1.04.2-1.43.59L10.3 9.45l-7.72 7.72c-.78.78-.78 2.05 0 2.83L4 21.41c.39.39.9.59 1.41.59.51 0 1.02-.2 1.41-.59l7.78-7.78 2.81-2.81c.8-.78.8-2.07 0-2.86zM5.41 20L4 18.59l7.72-7.72 1.47 1.35L5.41 20z\"/>\n",
              "  </svg>\n",
              "      </button>\n",
              "      \n",
              "  <style>\n",
              "    .colab-df-container {\n",
              "      display:flex;\n",
              "      flex-wrap:wrap;\n",
              "      gap: 12px;\n",
              "    }\n",
              "\n",
              "    .colab-df-convert {\n",
              "      background-color: #E8F0FE;\n",
              "      border: none;\n",
              "      border-radius: 50%;\n",
              "      cursor: pointer;\n",
              "      display: none;\n",
              "      fill: #1967D2;\n",
              "      height: 32px;\n",
              "      padding: 0 0 0 0;\n",
              "      width: 32px;\n",
              "    }\n",
              "\n",
              "    .colab-df-convert:hover {\n",
              "      background-color: #E2EBFA;\n",
              "      box-shadow: 0px 1px 2px rgba(60, 64, 67, 0.3), 0px 1px 3px 1px rgba(60, 64, 67, 0.15);\n",
              "      fill: #174EA6;\n",
              "    }\n",
              "\n",
              "    [theme=dark] .colab-df-convert {\n",
              "      background-color: #3B4455;\n",
              "      fill: #D2E3FC;\n",
              "    }\n",
              "\n",
              "    [theme=dark] .colab-df-convert:hover {\n",
              "      background-color: #434B5C;\n",
              "      box-shadow: 0px 1px 3px 1px rgba(0, 0, 0, 0.15);\n",
              "      filter: drop-shadow(0px 1px 2px rgba(0, 0, 0, 0.3));\n",
              "      fill: #FFFFFF;\n",
              "    }\n",
              "  </style>\n",
              "\n",
              "      <script>\n",
              "        const buttonEl =\n",
              "          document.querySelector('#df-40f989cb-cb5f-43cb-ba92-6c5b2d7f78f0 button.colab-df-convert');\n",
              "        buttonEl.style.display =\n",
              "          google.colab.kernel.accessAllowed ? 'block' : 'none';\n",
              "\n",
              "        async function convertToInteractive(key) {\n",
              "          const element = document.querySelector('#df-40f989cb-cb5f-43cb-ba92-6c5b2d7f78f0');\n",
              "          const dataTable =\n",
              "            await google.colab.kernel.invokeFunction('convertToInteractive',\n",
              "                                                     [key], {});\n",
              "          if (!dataTable) return;\n",
              "\n",
              "          const docLinkHtml = 'Like what you see? Visit the ' +\n",
              "            '<a target=\"_blank\" href=https://colab.research.google.com/notebooks/data_table.ipynb>data table notebook</a>'\n",
              "            + ' to learn more about interactive tables.';\n",
              "          element.innerHTML = '';\n",
              "          dataTable['output_type'] = 'display_data';\n",
              "          await google.colab.output.renderOutput(dataTable, element);\n",
              "          const docLink = document.createElement('div');\n",
              "          docLink.innerHTML = docLinkHtml;\n",
              "          element.appendChild(docLink);\n",
              "        }\n",
              "      </script>\n",
              "    </div>\n",
              "  </div>\n",
              "  "
            ]
          },
          "metadata": {},
          "execution_count": 19
        }
      ]
    },
    {
      "cell_type": "code",
      "source": [
        "data = np.array(data)"
      ],
      "metadata": {
        "id": "R5ic_hxCqOBR"
      },
      "execution_count": null,
      "outputs": []
    },
    {
      "cell_type": "code",
      "source": [
        "data"
      ],
      "metadata": {
        "colab": {
          "base_uri": "https://localhost:8080/"
        },
        "id": "_OPpuRRErDRq",
        "outputId": "7d9ba282-58c5-4d02-dbfc-0f8948136edb"
      },
      "execution_count": null,
      "outputs": [
        {
          "output_type": "execute_result",
          "data": {
            "text/plain": [
              "array([['10/9/2022 22:14:01', 'Computer Science'],\n",
              "       ['10/9/2022 22:14:06', 'English'],\n",
              "       ['10/9/2022 22:14:10', 'Accounting'],\n",
              "       ['10/10/2022 12:09:54', 'Exercise Science'],\n",
              "       ['10/10/2022 12:12:23', 'Health Science'],\n",
              "       ['10/10/2022 12:12:24', 'Finance'],\n",
              "       ['10/10/2022 12:12:26', 'Criminal Justice'],\n",
              "       ['10/10/2022 12:12:26', 'Business'],\n",
              "       ['10/10/2022 12:12:28', 'Accounting'],\n",
              "       ['10/10/2022 12:12:28', 'Health Science'],\n",
              "       ['10/10/2022 12:12:29', 'Geology'],\n",
              "       ['10/10/2022 12:12:29', 'Business'],\n",
              "       ['10/10/2022 12:12:31', \"Don't know\"],\n",
              "       ['10/10/2022 12:12:31', 'Criminal Justice'],\n",
              "       ['10/10/2022 12:12:33', 'Accounting'],\n",
              "       ['10/10/2022 12:12:34', 'Criminal Justice'],\n",
              "       ['10/10/2022 12:12:34', 'Business'],\n",
              "       ['10/10/2022 12:12:34', 'Finance'],\n",
              "       ['10/10/2022 12:12:34', 'Exercise Science'],\n",
              "       ['10/10/2022 12:12:35', 'Health Science'],\n",
              "       ['10/10/2022 12:12:37', 'Accounting'],\n",
              "       ['10/10/2022 12:12:38', 'Computer Science'],\n",
              "       ['10/10/2022 12:12:39', 'Accounting'],\n",
              "       ['10/10/2022 12:12:39', 'Marketing'],\n",
              "       ['10/10/2022 12:12:41', 'Business'],\n",
              "       ['10/10/2022 12:12:43', 'Health Science'],\n",
              "       ['10/10/2022 12:12:44', 'Accounting'],\n",
              "       ['10/10/2022 12:12:47', 'Computer Science'],\n",
              "       ['10/10/2022 12:12:50', 'Business'],\n",
              "       ['10/10/2022 12:12:51', 'Finance'],\n",
              "       ['10/10/2022 12:12:55', 'Business'],\n",
              "       ['10/10/2022 12:13:16', 'Criminal Justice'],\n",
              "       ['10/10/2022 12:13:18', 'Accounting'],\n",
              "       ['10/10/2022 12:13:20', 'Marketing'],\n",
              "       ['10/10/2022 12:13:20', 'Business'],\n",
              "       ['10/10/2022 12:13:29', 'Math'],\n",
              "       ['10/10/2022 12:13:35', 'English'],\n",
              "       ['10/10/2022 12:13:44', 'Business'],\n",
              "       ['10/10/2022 12:13:45', 'Health Science'],\n",
              "       ['10/10/2022 12:13:46', 'Business'],\n",
              "       ['10/10/2022 12:13:50', 'Finance'],\n",
              "       ['10/10/2022 12:14:01', 'Health Science'],\n",
              "       ['10/10/2022 12:14:04', 'Marketing']], dtype=object)"
            ]
          },
          "metadata": {},
          "execution_count": 21
        }
      ]
    },
    {
      "cell_type": "code",
      "source": [
        "majors = data[:,1]"
      ],
      "metadata": {
        "id": "OSk3DYFwrD5S"
      },
      "execution_count": null,
      "outputs": []
    },
    {
      "cell_type": "code",
      "source": [
        "Computer_Science = np.sum(majors == 'Computer Science')\n",
        "English = np.sum(majors == 'English')\n",
        "Accounting = np.sum(majors == 'Accounting')"
      ],
      "metadata": {
        "id": "8YvmiKHJrIqr"
      },
      "execution_count": null,
      "outputs": []
    },
    {
      "cell_type": "code",
      "source": [
        "names = ['Computer Science', 'English']\n",
        "values = [Computer_Science, English]\n",
        "\n",
        "plt.bar(names, values)"
      ],
      "metadata": {
        "colab": {
          "base_uri": "https://localhost:8080/",
          "height": 282
        },
        "outputId": "0162f340-8135-4d74-93cf-24c8dce0c027",
        "id": "hcj-U3CDrIqs"
      },
      "execution_count": null,
      "outputs": [
        {
          "output_type": "execute_result",
          "data": {
            "text/plain": [
              "<BarContainer object of 2 artists>"
            ]
          },
          "metadata": {},
          "execution_count": 24
        },
        {
          "output_type": "display_data",
          "data": {
            "text/plain": [
              "<Figure size 432x288 with 1 Axes>"
            ],
            "image/png": "[encoded data removed]"
          },
          "metadata": {
            "needs_background": "light"
          }
        }
      ]
    },
    {
      "cell_type": "code",
      "source": [
        "majors"
      ],
      "metadata": {
        "colab": {
          "base_uri": "https://localhost:8080/"
        },
        "id": "2_oUFTgdt_At",
        "outputId": "f520e0f0-6213-4e0a-d54c-20a879081ea5"
      },
      "execution_count": null,
      "outputs": [
        {
          "output_type": "execute_result",
          "data": {
            "text/plain": [
              "array(['Computer Science', 'English', 'Accounting', 'Exercise Science',\n",
              "       'Health Science', 'Finance', 'Criminal Justice', 'Business',\n",
              "       'Accounting', 'Health Science', 'Geology', 'Business',\n",
              "       \"Don't know\", 'Criminal Justice', 'Accounting', 'Criminal Justice',\n",
              "       'Business', 'Finance', 'Exercise Science', 'Health Science',\n",
              "       'Accounting', 'Computer Science', 'Accounting', 'Marketing',\n",
              "       'Business', 'Health Science', 'Accounting', 'Computer Science',\n",
              "       'Business', 'Finance', 'Business', 'Criminal Justice',\n",
              "       'Accounting', 'Marketing', 'Business', 'Math', 'English',\n",
              "       'Business', 'Health Science', 'Business', 'Finance',\n",
              "       'Health Science', 'Marketing'], dtype=object)"
            ]
          },
          "metadata": {},
          "execution_count": 25
        }
      ]
    },
    {
      "cell_type": "code",
      "source": [
        "majors =='Math'"
      ],
      "metadata": {
        "colab": {
          "base_uri": "https://localhost:8080/"
        },
        "id": "Qj4w_IvQrvek",
        "outputId": "1336844e-867b-41e9-bee9-7ea9f2bbdbbb"
      },
      "execution_count": null,
      "outputs": [
        {
          "output_type": "execute_result",
          "data": {
            "text/plain": [
              "array([False, False, False, False, False, False, False, False, False,\n",
              "       False, False, False, False, False, False, False, False, False,\n",
              "       False, False, False, False, False, False, False, False, False,\n",
              "       False, False, False, False, False, False, False, False,  True,\n",
              "       False, False, False, False, False, False, False])"
            ]
          },
          "metadata": {},
          "execution_count": 26
        }
      ]
    },
    {
      "cell_type": "code",
      "source": [],
      "metadata": {
        "id": "S_o6MO-MuP_1"
      },
      "execution_count": null,
      "outputs": []
    },
    {
      "cell_type": "code",
      "source": [
        "D = {} #dictionary\n",
        "\n",
        "for major in majors:\n",
        "    \n",
        "    count = np.sum(majors == major)\n",
        "\n",
        "    print(major, count)\n",
        "\n",
        "    D[major] = count"
      ],
      "metadata": {
        "colab": {
          "base_uri": "https://localhost:8080/"
        },
        "id": "P7uwGTDHt_Dc",
        "outputId": "8ee77203-f0e8-4803-895a-8006f5e28c86"
      },
      "execution_count": null,
      "outputs": [
        {
          "output_type": "stream",
          "name": "stdout",
          "text": [
            "Computer Science 3\n",
            "English 2\n",
            "Accounting 7\n",
            "Exercise Science 2\n",
            "Health Science 6\n",
            "Finance 4\n",
            "Criminal Justice 4\n",
            "Business 9\n",
            "Accounting 7\n",
            "Health Science 6\n",
            "Geology 1\n",
            "Business 9\n",
            "Don't know 1\n",
            "Criminal Justice 4\n",
            "Accounting 7\n",
            "Criminal Justice 4\n",
            "Business 9\n",
            "Finance 4\n",
            "Exercise Science 2\n",
            "Health Science 6\n",
            "Accounting 7\n",
            "Computer Science 3\n",
            "Accounting 7\n",
            "Marketing 3\n",
            "Business 9\n",
            "Health Science 6\n",
            "Accounting 7\n",
            "Computer Science 3\n",
            "Business 9\n",
            "Finance 4\n",
            "Business 9\n",
            "Criminal Justice 4\n",
            "Accounting 7\n",
            "Marketing 3\n",
            "Business 9\n",
            "Math 1\n",
            "English 2\n",
            "Business 9\n",
            "Health Science 6\n",
            "Business 9\n",
            "Finance 4\n",
            "Health Science 6\n",
            "Marketing 3\n"
          ]
        }
      ]
    },
    {
      "cell_type": "code",
      "source": [
        "D.keys() #the name"
      ],
      "metadata": {
        "colab": {
          "base_uri": "https://localhost:8080/"
        },
        "id": "gvAn9isFsaSc",
        "outputId": "928b17f6-d984-4b71-cb55-4df1ace502f5"
      },
      "execution_count": null,
      "outputs": [
        {
          "output_type": "execute_result",
          "data": {
            "text/plain": [
              "dict_keys(['Computer Science', 'English', 'Accounting', 'Exercise Science', 'Health Science', 'Finance', 'Criminal Justice', 'Business', 'Geology', \"Don't know\", 'Marketing', 'Math'])"
            ]
          },
          "metadata": {},
          "execution_count": 28
        }
      ]
    },
    {
      "cell_type": "code",
      "source": [
        "D.values() #the number"
      ],
      "metadata": {
        "colab": {
          "base_uri": "https://localhost:8080/"
        },
        "id": "WX9FE0TTseT2",
        "outputId": "c1cef3a9-53ec-4ae2-f59f-ce0837d72692"
      },
      "execution_count": null,
      "outputs": [
        {
          "output_type": "execute_result",
          "data": {
            "text/plain": [
              "dict_values([3, 2, 7, 2, 6, 4, 4, 9, 1, 1, 3, 1])"
            ]
          },
          "metadata": {},
          "execution_count": 29
        }
      ]
    },
    {
      "cell_type": "code",
      "source": [
        "names = list(D.keys())\n",
        "values = list(D.values())\n",
        "\n",
        "N = len(names)\n",
        "cmap = plt.cm.tab10\n",
        "colors = cmap(np.arange(N) % cmap.N) #makes a bunch of colors\n",
        "\n",
        "plt.bar(range(len(D)), values, tick_label=names, color = colors)\n",
        "plt.show()"
      ],
      "metadata": {
        "colab": {
          "base_uri": "https://localhost:8080/",
          "height": 265
        },
        "id": "fxqpPdkJt_F_",
        "outputId": "4fd25a76-bcbd-4f46-cdb7-8166d1a05d81"
      },
      "execution_count": null,
      "outputs": [
        {
          "output_type": "display_data",
          "data": {
            "text/plain": [
              "<Figure size 432x288 with 1 Axes>"
            ],
            "image/png": "[encoded data removed]"
          },
          "metadata": {
            "needs_background": "light"
          }
        }
      ]
    },
    {
      "cell_type": "code",
      "source": [],
      "metadata": {
        "id": "DIH869kcwhQj"
      },
      "execution_count": null,
      "outputs": []
    }
  ]
}