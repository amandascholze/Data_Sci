{
  "nbformat": 4,
  "nbformat_minor": 0,
  "metadata": {
    "colab": {
      "provenance": [],
      "authorship_tag": "ABX9TyPSZNeSALKX0fzEKSHyPwQ/",
      "include_colab_link": true
    },
    "kernelspec": {
      "name": "python3",
      "display_name": "Python 3"
    },
    "language_info": {
      "name": "python"
    }
  },
  "cells": [
    {
      "cell_type": "markdown",
      "metadata": {
        "id": "view-in-github",
        "colab_type": "text"
      },
      "source": [
        "<a href=\"https://colab.research.google.com/github/amandascholze/Data_Sci/blob/main/MidTerm_pt_3.ipynb\" target=\"_parent\"><img src=\"https://colab.research.google.com/assets/colab-badge.svg\" alt=\"Open In Colab\"/></a>"
      ]
    },
    {
      "cell_type": "code",
      "execution_count": null,
      "metadata": {
        "id": "rULNMnFtQz0Y"
      },
      "outputs": [],
      "source": [
        "import numpy as np\n",
        "import matplotlib.pyplot as plt #our basic imports"
      ]
    },
    {
      "cell_type": "code",
      "source": [
        "X = np.array([12,9,20,7,2])    # <- Put your numbers here  Diameter\n",
        "Y = np.array([38,28,63,22,6])  #                           Circumference"
      ],
      "metadata": {
        "id": "pdN4TG2OQ6qw"
      },
      "execution_count": null,
      "outputs": []
    },
    {
      "cell_type": "code",
      "source": [
        "plt.plot(X,Y,'c.') #printed as a scatterplot"
      ],
      "metadata": {
        "colab": {
          "base_uri": "https://localhost:8080/",
          "height": 282
        },
        "id": "VPlV6lXgQ6Vh",
        "outputId": "eb299da7-878a-42e9-de26-fa1df497ed2d"
      },
      "execution_count": null,
      "outputs": [
        {
          "output_type": "execute_result",
          "data": {
            "text/plain": [
              "[<matplotlib.lines.Line2D at 0x7f49c8b9b7d0>]"
            ]
          },
          "metadata": {},
          "execution_count": 6
        },
        {
          "output_type": "display_data",
          "data": {
            "text/plain": [
              "<Figure size 432x288 with 1 Axes>"
            ],
            "image/png": "[encoded data removed]"
          },
          "metadata": {
            "needs_background": "light"
          }
        }
      ]
    },
    {
      "cell_type": "code",
      "source": [
        "m_guess = 0\n",
        "b_guess = 0  #initial guess for m and b"
      ],
      "metadata": {
        "id": "XCvxyfT1RYc_"
      },
      "execution_count": null,
      "outputs": []
    },
    {
      "cell_type": "code",
      "source": [
        "m_guess * X + b_guess #gives a guess #going ot be y guess"
      ],
      "metadata": {
        "colab": {
          "base_uri": "https://localhost:8080/"
        },
        "id": "5NxI_OLfSJxg",
        "outputId": "279e3533-f309-4849-c297-61287877cd54"
      },
      "execution_count": null,
      "outputs": [
        {
          "output_type": "execute_result",
          "data": {
            "text/plain": [
              "array([0, 0, 0, 0, 0])"
            ]
          },
          "metadata": {},
          "execution_count": 10
        }
      ]
    },
    {
      "cell_type": "markdown",
      "source": [
        "$y = m*x +b$"
      ],
      "metadata": {
        "id": "qgtI0lCASyFn"
      }
    },
    {
      "cell_type": "code",
      "source": [
        "# formula for a linear model"
      ],
      "metadata": {
        "id": "fKgkmkhZSN5A"
      },
      "execution_count": null,
      "outputs": []
    },
    {
      "cell_type": "code",
      "source": [
        "m_guess * X + b_guess"
      ],
      "metadata": {
        "colab": {
          "base_uri": "https://localhost:8080/"
        },
        "id": "YW8pd10YS4fA",
        "outputId": "da6e76a1-4cc8-4540-e40a-58e78b60c8a3"
      },
      "execution_count": null,
      "outputs": [
        {
          "output_type": "execute_result",
          "data": {
            "text/plain": [
              "array([0, 0, 0, 0, 0])"
            ]
          },
          "metadata": {},
          "execution_count": 12
        }
      ]
    },
    {
      "cell_type": "code",
      "source": [
        "# if guesses are zero it gives us zero"
      ],
      "metadata": {
        "id": "UdhhgEiqS7RP"
      },
      "execution_count": null,
      "outputs": []
    },
    {
      "cell_type": "code",
      "source": [
        "y_guess = m_guess * X + b_guess"
      ],
      "metadata": {
        "id": "kN_tHIA_S_nP"
      },
      "execution_count": null,
      "outputs": []
    },
    {
      "cell_type": "code",
      "source": [
        "y_guess - Y #trying to see if this guess fits the data we already know about"
      ],
      "metadata": {
        "colab": {
          "base_uri": "https://localhost:8080/"
        },
        "id": "7U6NQPJeTinA",
        "outputId": "83a4dc2e-d824-4a6f-a0da-6f6edf75779f"
      },
      "execution_count": null,
      "outputs": [
        {
          "output_type": "execute_result",
          "data": {
            "text/plain": [
              "array([-38, -28, -63, -22,  -6])"
            ]
          },
          "metadata": {},
          "execution_count": 17
        }
      ]
    },
    {
      "cell_type": "code",
      "source": [
        "#trying to see how wrong out current guess is"
      ],
      "metadata": {
        "id": "nrNNUMFaTP4w"
      },
      "execution_count": null,
      "outputs": []
    },
    {
      "cell_type": "code",
      "source": [
        "#minus sign in this diantce point is from the line"
      ],
      "metadata": {
        "id": "cZbLmMuBT24P"
      },
      "execution_count": null,
      "outputs": []
    },
    {
      "cell_type": "code",
      "source": [
        "(y_guess - Y)**2 #turns negative numbers into positives--> gets rid of minus signs #least squares, best fit"
      ],
      "metadata": {
        "colab": {
          "base_uri": "https://localhost:8080/"
        },
        "id": "-QZsLSfdT34J",
        "outputId": "e656ed75-40f5-4276-9cb0-1fad011b8c26"
      },
      "execution_count": null,
      "outputs": [
        {
          "output_type": "execute_result",
          "data": {
            "text/plain": [
              "array([1444,  784, 3969,  484,   36])"
            ]
          },
          "metadata": {},
          "execution_count": 25
        }
      ]
    },
    {
      "cell_type": "code",
      "source": [
        "np.sum((y_guess - Y)**2) #loss function"
      ],
      "metadata": {
        "colab": {
          "base_uri": "https://localhost:8080/"
        },
        "id": "dO-ULueYT37B",
        "outputId": "5d51174e-05be-4697-970b-8580f690a3f4"
      },
      "execution_count": null,
      "outputs": [
        {
          "output_type": "execute_result",
          "data": {
            "text/plain": [
              "6717"
            ]
          },
          "metadata": {},
          "execution_count": 26
        }
      ]
    },
    {
      "cell_type": "code",
      "source": [
        "#built a model to predict circumferance"
      ],
      "metadata": {
        "id": "LTcdf2Y8T39Q"
      },
      "execution_count": null,
      "outputs": []
    },
    {
      "cell_type": "code",
      "source": [
        "loss = np.sum((y_guess - Y)**2)"
      ],
      "metadata": {
        "id": "5fxzNH5lT3_x"
      },
      "execution_count": null,
      "outputs": []
    },
    {
      "cell_type": "code",
      "source": [
        "for m_guess in np.linspace(-100,100,100):\n",
        "\n",
        "  print(m_guess) #gives all possible guess for m"
      ],
      "metadata": {
        "id": "pTc76Xu7T4CX"
      },
      "execution_count": null,
      "outputs": []
    },
    {
      "cell_type": "code",
      "source": [
        "for m_guess in np.linspace(-100,100,100):\n",
        "  for b_guess in np.linspace(-100,100,100):\n",
        "    print(m_guess) \n",
        "    y_guess = m_guess * X + b_guess #calls linear regression"
      ],
      "metadata": {
        "id": "dcdiU73iT4FL"
      },
      "execution_count": null,
      "outputs": []
    },
    {
      "cell_type": "code",
      "source": [
        "#for every value of M it sweeps through all the values of B and so on"
      ],
      "metadata": {
        "id": "HE7_onrnT4H4"
      },
      "execution_count": null,
      "outputs": []
    },
    {
      "cell_type": "code",
      "source": [
        "for m_guess in np.linspace(-100,100,100):\n",
        "  for b_guess in np.linspace(-100,100,100):\n",
        "    \n",
        "    y_guess = m_guess * X + b_guess\n",
        "    loss = np.sum((y_guess - Y)**2) #subtract output from guess, square to not cancel out negatives\n",
        "\n",
        "    print(m_guess, b_guess, loss) #linear regression, loss value"
      ],
      "metadata": {
        "id": "eghU1sm1T4Ni"
      },
      "execution_count": null,
      "outputs": []
    },
    {
      "cell_type": "code",
      "source": [
        "best_loss_so_far = 10000000000000\n",
        "\n",
        "m_best = 0\n",
        "b_best = 0 #scans through above numbers to find best guess\n",
        "\n",
        "for m_guess in np.linspace(-100,100,100):\n",
        "  for b_guess in np.linspace(-100,100,100):\n",
        "    \n",
        "    y_guess = m_guess * X + b_guess\n",
        "    loss = np.sum((y_guess - Y)**2)\n",
        "\n",
        "    if loss < best_loss_so_far:\n",
        "      m_best = m_guess \n",
        "      b_best = b_guess \n",
        "      best_loss_so_far = loss\n",
        "\n",
        "print(\"Found best fit:\")    \n",
        "print(m_best, b_best, loss)\n"
      ],
      "metadata": {
        "colab": {
          "base_uri": "https://localhost:8080/"
        },
        "id": "WjKmBV16T4Pw",
        "outputId": "2761dbb3-7c70-4975-a867-9fa3f64e46c1"
      },
      "execution_count": null,
      "outputs": [
        {
          "output_type": "stream",
          "name": "stdout",
          "text": [
            "Found best fit:\n",
            "3.030303030303031 1.0101010101010104 7378517.0\n"
          ]
        }
      ]
    },
    {
      "cell_type": "code",
      "source": [
        "#slope of 3, intercept of 1"
      ],
      "metadata": {
        "id": "OJsGvkgbYYNx"
      },
      "execution_count": null,
      "outputs": []
    },
    {
      "cell_type": "code",
      "source": [
        "#relates diameter of circle to circumferance __> pi"
      ],
      "metadata": {
        "id": "Hglhjv-AYYTo"
      },
      "execution_count": null,
      "outputs": []
    },
    {
      "cell_type": "markdown",
      "source": [
        "The estimated relationship is:\n",
        "\n",
        "$C = ? D + ?$"
      ],
      "metadata": {
        "id": "4zCAPG3upXN9"
      }
    },
    {
      "cell_type": "markdown",
      "source": [
        "C = pi* d\n",
        "\n",
        "\n",
        "y = m*X + b"
      ],
      "metadata": {
        "id": "1JXky7ATdH3x"
      }
    },
    {
      "cell_type": "markdown",
      "source": [
        "## Part 3: Interpretation\n",
        "\n",
        "Answer the questions in text cells"
      ],
      "metadata": {
        "id": "7FBlUtdwt_hd"
      }
    },
    {
      "cell_type": "markdown",
      "source": [
        "#### Question 1:\n",
        "\n",
        "What do $m$ and $b$ represent in these equations?"
      ],
      "metadata": {
        "id": "9xIvwJhOuGDh"
      }
    },
    {
      "cell_type": "markdown",
      "source": [
        "$m$ represenets slope of line of best fit and $b$ is the y intercept of the line of best fit\n",
        "*   List item\n",
        "*   List item\n",
        "\n"
      ],
      "metadata": {
        "id": "OC_Ja53Yugfn"
      }
    },
    {
      "cell_type": "markdown",
      "source": [
        "#### Question 2:\n",
        "\n",
        "Guess what the correct values $m$ and $b$ should be."
      ],
      "metadata": {
        "id": "_7xl4z8kubLo"
      }
    },
    {
      "cell_type": "markdown",
      "source": [
        "$m$ should be pi and $b$ should be zero"
      ],
      "metadata": {
        "id": "Te_52DvOuhZ-"
      }
    },
    {
      "cell_type": "markdown",
      "source": [
        "#### Question 3:\n",
        "\n",
        "Does it make sense to include $b$ in the parameters?"
      ],
      "metadata": {
        "id": "2yrRt2wMubSC"
      }
    },
    {
      "cell_type": "markdown",
      "source": [
        "No because when the diameter is zero, the circumferance is zero\n"
      ],
      "metadata": {
        "id": "fSkG9QXRewZJ"
      }
    },
    {
      "cell_type": "code",
      "source": [],
      "metadata": {
        "id": "pPG2La-te6v2"
      },
      "execution_count": null,
      "outputs": []
    }
  ]
}